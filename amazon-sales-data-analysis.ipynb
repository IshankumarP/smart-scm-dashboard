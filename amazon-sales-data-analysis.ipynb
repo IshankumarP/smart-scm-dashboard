{
 "cells": [
  {
   "cell_type": "markdown",
   "metadata": {
    "papermill": {
     "duration": 0.013036,
     "end_time": "2023-03-08T20:16:54.892952",
     "exception": false,
     "start_time": "2023-03-08T20:16:54.879916",
     "status": "completed"
    },
    "tags": []
   },
   "source": [
    "# Amazon India Sales Dataset Analysis"
   ]
  },
  {
   "cell_type": "markdown",
   "metadata": {
    "papermill": {
     "duration": 0.012882,
     "end_time": "2023-03-08T20:16:54.920541",
     "exception": false,
     "start_time": "2023-03-08T20:16:54.907659",
     "status": "completed"
    },
    "tags": []
   },
   "source": [
    "### `Objective` - Increase revenue and improve product category performance\n"
   ]
  },
  {
   "cell_type": "markdown",
   "metadata": {
    "papermill": {
     "duration": 0.014156,
     "end_time": "2023-03-08T20:16:54.948172",
     "exception": false,
     "start_time": "2023-03-08T20:16:54.934016",
     "status": "completed"
    },
    "tags": []
   },
   "source": [
    "Calculate the percentage of revenue for the top 3 product categories, and aim to increase the percentage of revenue for the lowest of the top 3 categories by 5% by the end of Q3 2022.\n",
    "    - reduce dependence on a single category"
   ]
  },
  {
   "cell_type": "markdown",
   "metadata": {
    "papermill": {
     "duration": 0.013339,
     "end_time": "2023-03-08T20:16:54.974889",
     "exception": false,
     "start_time": "2023-03-08T20:16:54.96155",
     "status": "completed"
    },
    "tags": []
   },
   "source": [
    "### `Preliminary Analysis`"
   ]
  },
  {
   "cell_type": "markdown",
   "metadata": {
    "papermill": {
     "duration": 0.015044,
     "end_time": "2023-03-08T20:16:55.003775",
     "exception": false,
     "start_time": "2023-03-08T20:16:54.988731",
     "status": "completed"
    },
    "tags": []
   },
   "source": [
    "Based on the analysis, we can draw some preliminary insights about the Q2 2022 performance of Amazon India:\n",
    "\n",
    "- The total revenue for Q2 2022 decreased by -18.77% from April to June, with May revenue experiencing a -9.06% decrease from April, and June revenue seeing a -10.68% decrease from May, which is a cause of concern.\n",
    "\n",
    "- The revenue is dominated by the product category \"Set,\" which accounts for 49.88% of total revenue, followed by kurta with 27.09% and Western Dress with 14.28%.\n",
    "\n",
    "- The top 5 product categories by average price in dollars are Set (\\\\$9.43), Saree (\\\\$9.14), Western Dress (\\\\$8.75), Ethnic Dress (\\\\$8.26), and Top (\\\\$6.09), indicating that these products are high-value orders.\n",
    "\n",
    "- The total number of cancelled and returned orders was 49,178, which represents 17.53% of all orders. Of these, 14.22% were cancelled and 1.64% were returned.\n",
    "\n",
    "- The average order amount by customer type is \\\\$8.21 for business customers and \\\\$7.37 for regular customers.\n",
    "\n",
    "- The most popular product category varies by state, and it may be worthwhile to analyze the reasons behind these trends and invest in marketing campaigns or promotions accordingly."
   ]
  },
  {
   "cell_type": "markdown",
   "metadata": {
    "papermill": {
     "duration": 0.012185,
     "end_time": "2023-03-08T20:16:55.028398",
     "exception": false,
     "start_time": "2023-03-08T20:16:55.016213",
     "status": "completed"
    },
    "tags": []
   },
   "source": [
    "**Analysis Summary and Recommendations**"
   ]
  },
  {
   "cell_type": "markdown",
   "metadata": {
    "papermill": {
     "duration": 0.012684,
     "end_time": "2023-03-08T20:16:55.054248",
     "exception": false,
     "start_time": "2023-03-08T20:16:55.041564",
     "status": "completed"
    },
    "tags": []
   },
   "source": [
    "- Use promotions to drive interest in the Western Dress product by targeting the top 50% of states ranked by sales revenue since their revenue is between 10 and 100 times more than the top ranked states by revenue in the lower 50%. \n"
   ]
  },
  {
   "cell_type": "markdown",
   "metadata": {
    "papermill": {
     "duration": 0.012341,
     "end_time": "2023-03-08T20:16:55.079177",
     "exception": false,
     "start_time": "2023-03-08T20:16:55.066836",
     "status": "completed"
    },
    "tags": []
   },
   "source": [
    "**Implementation and Analysis of Strategies`**"
   ]
  },
  {
   "cell_type": "markdown",
   "metadata": {
    "papermill": {
     "duration": 0.012358,
     "end_time": "2023-03-08T20:16:55.104141",
     "exception": false,
     "start_time": "2023-03-08T20:16:55.091783",
     "status": "completed"
    },
    "tags": []
   },
   "source": [
    "- Work with the client to implement the following promotions:\n",
    "    - Promotion to drive interest in the Western Dress category\n",
    "- Monitor the Impact of the Strategies\n",
    "    - Track sales revenue for Western Dress category after the promotions are implemented\n",
    "- Analyze the Effectiveness of the Strategies\n",
    "    - Conduct an analysis after the promotions have been running for some time\n"
   ]
  },
  {
   "cell_type": "code",
   "execution_count": 56,
   "metadata": {
    "execution": {
     "iopub.execute_input": "2023-03-08T20:16:55.155842Z",
     "iopub.status.busy": "2023-03-08T20:16:55.15532Z",
     "iopub.status.idle": "2023-03-08T20:16:56.147923Z",
     "shell.execute_reply": "2023-03-08T20:16:56.146963Z"
    },
    "papermill": {
     "duration": 1.008791,
     "end_time": "2023-03-08T20:16:56.150441",
     "exception": false,
     "start_time": "2023-03-08T20:16:55.14165",
     "status": "completed"
    },
    "tags": []
   },
   "outputs": [],
   "source": [
    "import pandas as pd\n",
    "import numpy as np\n",
    "import seaborn as sns\n",
    "import matplotlib.pyplot as plt\n",
    "\n",
    "sns.set(style=\"darkgrid\")"
   ]
  },
  {
   "cell_type": "code",
   "execution_count": 57,
   "metadata": {
    "execution": {
     "iopub.execute_input": "2023-03-08T20:16:56.176352Z",
     "iopub.status.busy": "2023-03-08T20:16:56.17597Z",
     "iopub.status.idle": "2023-03-08T20:16:57.847552Z",
     "shell.execute_reply": "2023-03-08T20:16:57.84665Z"
    },
    "papermill": {
     "duration": 1.686902,
     "end_time": "2023-03-08T20:16:57.849722",
     "exception": false,
     "start_time": "2023-03-08T20:16:56.16282",
     "status": "completed"
    },
    "tags": []
   },
   "outputs": [],
   "source": [
    "amazon = pd.read_csv('C:/Users/Ishan/Desktop/SCMlit/og.csv', low_memory=False)\n"
   ]
  },
  {
   "cell_type": "markdown",
   "metadata": {
    "jp-MarkdownHeadingCollapsed": true,
    "papermill": {
     "duration": 0.01181,
     "end_time": "2023-03-08T20:16:57.873695",
     "exception": false,
     "start_time": "2023-03-08T20:16:57.861885",
     "status": "completed"
    },
    "tags": []
   },
   "source": [
    "Intial Dataset View "
   ]
  },
  {
   "cell_type": "code",
   "execution_count": 58,
   "metadata": {
    "execution": {
     "iopub.execute_input": "2023-03-08T20:16:57.898926Z",
     "iopub.status.busy": "2023-03-08T20:16:57.898614Z",
     "iopub.status.idle": "2023-03-08T20:16:57.931566Z",
     "shell.execute_reply": "2023-03-08T20:16:57.930534Z"
    },
    "papermill": {
     "duration": 0.047745,
     "end_time": "2023-03-08T20:16:57.933302",
     "exception": false,
     "start_time": "2023-03-08T20:16:57.885557",
     "status": "completed"
    },
    "tags": []
   },
   "outputs": [
    {
     "data": {
      "text/html": [
       "<div>\n",
       "<style scoped>\n",
       "    .dataframe tbody tr th:only-of-type {\n",
       "        vertical-align: middle;\n",
       "    }\n",
       "\n",
       "    .dataframe tbody tr th {\n",
       "        vertical-align: top;\n",
       "    }\n",
       "\n",
       "    .dataframe thead th {\n",
       "        text-align: right;\n",
       "    }\n",
       "</style>\n",
       "<table border=\"1\" class=\"dataframe\">\n",
       "  <thead>\n",
       "    <tr style=\"text-align: right;\">\n",
       "      <th></th>\n",
       "      <th>index</th>\n",
       "      <th>Order_ID</th>\n",
       "      <th>Date</th>\n",
       "      <th>Status</th>\n",
       "      <th>Fulfilment</th>\n",
       "      <th>Sales_Channel</th>\n",
       "      <th>ship_service</th>\n",
       "      <th>Style</th>\n",
       "      <th>SKU</th>\n",
       "      <th>Category</th>\n",
       "      <th>...</th>\n",
       "      <th>Qty</th>\n",
       "      <th>currency</th>\n",
       "      <th>Amount</th>\n",
       "      <th>ship_city</th>\n",
       "      <th>ship_state</th>\n",
       "      <th>ship_postal_code</th>\n",
       "      <th>ship_country</th>\n",
       "      <th>promotion_ids</th>\n",
       "      <th>B2B</th>\n",
       "      <th>fulfilled_by</th>\n",
       "    </tr>\n",
       "  </thead>\n",
       "  <tbody>\n",
       "    <tr>\n",
       "      <th>0</th>\n",
       "      <td>0</td>\n",
       "      <td>405-8078784-5731545</td>\n",
       "      <td>04-30-22</td>\n",
       "      <td>Cancelled</td>\n",
       "      <td>Merchant</td>\n",
       "      <td>Amazon.in</td>\n",
       "      <td>Standard</td>\n",
       "      <td>SET389</td>\n",
       "      <td>SET389-KR-NP-S</td>\n",
       "      <td>Set</td>\n",
       "      <td>...</td>\n",
       "      <td>0</td>\n",
       "      <td>INR</td>\n",
       "      <td>647.62</td>\n",
       "      <td>MUMBAI</td>\n",
       "      <td>MAHARASHTRA</td>\n",
       "      <td>400081.0</td>\n",
       "      <td>IN</td>\n",
       "      <td>NaN</td>\n",
       "      <td>False</td>\n",
       "      <td>Easy Ship</td>\n",
       "    </tr>\n",
       "    <tr>\n",
       "      <th>1</th>\n",
       "      <td>1</td>\n",
       "      <td>171-9198151-1101146</td>\n",
       "      <td>04-30-22</td>\n",
       "      <td>Shipped - Delivered to Buyer</td>\n",
       "      <td>Merchant</td>\n",
       "      <td>Amazon.in</td>\n",
       "      <td>Standard</td>\n",
       "      <td>JNE3781</td>\n",
       "      <td>JNE3781-KR-XXXL</td>\n",
       "      <td>kurta</td>\n",
       "      <td>...</td>\n",
       "      <td>1</td>\n",
       "      <td>INR</td>\n",
       "      <td>406.00</td>\n",
       "      <td>BENGALURU</td>\n",
       "      <td>KARNATAKA</td>\n",
       "      <td>560085.0</td>\n",
       "      <td>IN</td>\n",
       "      <td>Amazon PLCC Free-Financing Universal Merchant ...</td>\n",
       "      <td>False</td>\n",
       "      <td>Easy Ship</td>\n",
       "    </tr>\n",
       "    <tr>\n",
       "      <th>2</th>\n",
       "      <td>2</td>\n",
       "      <td>404-0687676-7273146</td>\n",
       "      <td>04-30-22</td>\n",
       "      <td>Shipped</td>\n",
       "      <td>Amazon</td>\n",
       "      <td>Amazon.in</td>\n",
       "      <td>Expedited</td>\n",
       "      <td>JNE3371</td>\n",
       "      <td>JNE3371-KR-XL</td>\n",
       "      <td>kurta</td>\n",
       "      <td>...</td>\n",
       "      <td>1</td>\n",
       "      <td>INR</td>\n",
       "      <td>329.00</td>\n",
       "      <td>NAVI MUMBAI</td>\n",
       "      <td>MAHARASHTRA</td>\n",
       "      <td>410210.0</td>\n",
       "      <td>IN</td>\n",
       "      <td>IN Core Free Shipping 2015/04/08 23-48-5-108</td>\n",
       "      <td>True</td>\n",
       "      <td>NaN</td>\n",
       "    </tr>\n",
       "    <tr>\n",
       "      <th>3</th>\n",
       "      <td>3</td>\n",
       "      <td>403-9615377-8133951</td>\n",
       "      <td>04-30-22</td>\n",
       "      <td>Cancelled</td>\n",
       "      <td>Merchant</td>\n",
       "      <td>Amazon.in</td>\n",
       "      <td>Standard</td>\n",
       "      <td>J0341</td>\n",
       "      <td>J0341-DR-L</td>\n",
       "      <td>Western Dress</td>\n",
       "      <td>...</td>\n",
       "      <td>0</td>\n",
       "      <td>INR</td>\n",
       "      <td>753.33</td>\n",
       "      <td>PUDUCHERRY</td>\n",
       "      <td>PUDUCHERRY</td>\n",
       "      <td>605008.0</td>\n",
       "      <td>IN</td>\n",
       "      <td>NaN</td>\n",
       "      <td>False</td>\n",
       "      <td>Easy Ship</td>\n",
       "    </tr>\n",
       "    <tr>\n",
       "      <th>4</th>\n",
       "      <td>4</td>\n",
       "      <td>407-1069790-7240320</td>\n",
       "      <td>04-30-22</td>\n",
       "      <td>Shipped</td>\n",
       "      <td>Amazon</td>\n",
       "      <td>Amazon.in</td>\n",
       "      <td>Expedited</td>\n",
       "      <td>JNE3671</td>\n",
       "      <td>JNE3671-TU-XXXL</td>\n",
       "      <td>Top</td>\n",
       "      <td>...</td>\n",
       "      <td>1</td>\n",
       "      <td>INR</td>\n",
       "      <td>574.00</td>\n",
       "      <td>CHENNAI</td>\n",
       "      <td>TAMIL NADU</td>\n",
       "      <td>600073.0</td>\n",
       "      <td>IN</td>\n",
       "      <td>NaN</td>\n",
       "      <td>False</td>\n",
       "      <td>NaN</td>\n",
       "    </tr>\n",
       "  </tbody>\n",
       "</table>\n",
       "<p>5 rows × 23 columns</p>\n",
       "</div>"
      ],
      "text/plain": [
       "   index             Order_ID      Date                        Status  \\\n",
       "0      0  405-8078784-5731545  04-30-22                     Cancelled   \n",
       "1      1  171-9198151-1101146  04-30-22  Shipped - Delivered to Buyer   \n",
       "2      2  404-0687676-7273146  04-30-22                       Shipped   \n",
       "3      3  403-9615377-8133951  04-30-22                     Cancelled   \n",
       "4      4  407-1069790-7240320  04-30-22                       Shipped   \n",
       "\n",
       "  Fulfilment Sales_Channel  ship_service    Style              SKU  \\\n",
       "0   Merchant      Amazon.in     Standard   SET389   SET389-KR-NP-S   \n",
       "1   Merchant      Amazon.in     Standard  JNE3781  JNE3781-KR-XXXL   \n",
       "2     Amazon      Amazon.in    Expedited  JNE3371    JNE3371-KR-XL   \n",
       "3   Merchant      Amazon.in     Standard    J0341       J0341-DR-L   \n",
       "4     Amazon      Amazon.in    Expedited  JNE3671  JNE3671-TU-XXXL   \n",
       "\n",
       "        Category  ... Qty currency  Amount    ship_city   ship_state  \\\n",
       "0            Set  ...   0      INR  647.62       MUMBAI  MAHARASHTRA   \n",
       "1          kurta  ...   1      INR  406.00    BENGALURU    KARNATAKA   \n",
       "2          kurta  ...   1      INR  329.00  NAVI MUMBAI  MAHARASHTRA   \n",
       "3  Western Dress  ...   0      INR  753.33   PUDUCHERRY   PUDUCHERRY   \n",
       "4            Top  ...   1      INR  574.00      CHENNAI   TAMIL NADU   \n",
       "\n",
       "   ship_postal_code ship_country  \\\n",
       "0          400081.0           IN   \n",
       "1          560085.0           IN   \n",
       "2          410210.0           IN   \n",
       "3          605008.0           IN   \n",
       "4          600073.0           IN   \n",
       "\n",
       "                                       promotion_ids    B2B fulfilled_by  \n",
       "0                                                NaN  False    Easy Ship  \n",
       "1  Amazon PLCC Free-Financing Universal Merchant ...  False    Easy Ship  \n",
       "2       IN Core Free Shipping 2015/04/08 23-48-5-108   True          NaN  \n",
       "3                                                NaN  False    Easy Ship  \n",
       "4                                                NaN  False          NaN  \n",
       "\n",
       "[5 rows x 23 columns]"
      ]
     },
     "execution_count": 58,
     "metadata": {},
     "output_type": "execute_result"
    }
   ],
   "source": [
    "amazon.head()"
   ]
  },
  {
   "cell_type": "code",
   "execution_count": 59,
   "metadata": {
    "execution": {
     "iopub.execute_input": "2023-03-08T20:16:57.959725Z",
     "iopub.status.busy": "2023-03-08T20:16:57.95939Z",
     "iopub.status.idle": "2023-03-08T20:16:58.072353Z",
     "shell.execute_reply": "2023-03-08T20:16:58.070857Z"
    },
    "papermill": {
     "duration": 0.129031,
     "end_time": "2023-03-08T20:16:58.074992",
     "exception": false,
     "start_time": "2023-03-08T20:16:57.945961",
     "status": "completed"
    },
    "tags": []
   },
   "outputs": [
    {
     "name": "stdout",
     "output_type": "stream",
     "text": [
      "<class 'pandas.core.frame.DataFrame'>\n",
      "RangeIndex: 128975 entries, 0 to 128974\n",
      "Data columns (total 23 columns):\n",
      " #   Column            Non-Null Count   Dtype  \n",
      "---  ------            --------------   -----  \n",
      " 0   index             128975 non-null  int64  \n",
      " 1   Order_ID          128975 non-null  object \n",
      " 2   Date              128975 non-null  object \n",
      " 3   Status            128975 non-null  object \n",
      " 4   Fulfilment        128975 non-null  object \n",
      " 5   Sales_Channel     128975 non-null  object \n",
      " 6   ship_service      128975 non-null  object \n",
      " 7   Style             128975 non-null  object \n",
      " 8   SKU               128975 non-null  object \n",
      " 9   Category          128975 non-null  object \n",
      " 10  Size              128975 non-null  object \n",
      " 11  ASIN              128975 non-null  object \n",
      " 12  Courier_Status    122103 non-null  object \n",
      " 13  Qty               128975 non-null  int64  \n",
      " 14  currency          121180 non-null  object \n",
      " 15  Amount            121180 non-null  float64\n",
      " 16  ship_city         128942 non-null  object \n",
      " 17  ship_state        128942 non-null  object \n",
      " 18  ship_postal_code  128942 non-null  float64\n",
      " 19  ship_country      128942 non-null  object \n",
      " 20  promotion_ids     79822 non-null   object \n",
      " 21  B2B               128975 non-null  bool   \n",
      " 22  fulfilled_by      39277 non-null   object \n",
      "dtypes: bool(1), float64(2), int64(2), object(18)\n",
      "memory usage: 21.8+ MB\n"
     ]
    }
   ],
   "source": [
    "amazon.info()"
   ]
  },
  {
   "cell_type": "code",
   "execution_count": 60,
   "metadata": {
    "execution": {
     "iopub.execute_input": "2023-03-08T20:16:58.101918Z",
     "iopub.status.busy": "2023-03-08T20:16:58.101548Z",
     "iopub.status.idle": "2023-03-08T20:16:58.281775Z",
     "shell.execute_reply": "2023-03-08T20:16:58.281096Z"
    },
    "papermill": {
     "duration": 0.196587,
     "end_time": "2023-03-08T20:16:58.284329",
     "exception": false,
     "start_time": "2023-03-08T20:16:58.087742",
     "status": "completed"
    },
    "tags": []
   },
   "outputs": [
    {
     "data": {
      "text/html": [
       "<div>\n",
       "<style scoped>\n",
       "    .dataframe tbody tr th:only-of-type {\n",
       "        vertical-align: middle;\n",
       "    }\n",
       "\n",
       "    .dataframe tbody tr th {\n",
       "        vertical-align: top;\n",
       "    }\n",
       "\n",
       "    .dataframe thead th {\n",
       "        text-align: right;\n",
       "    }\n",
       "</style>\n",
       "<table border=\"1\" class=\"dataframe\">\n",
       "  <thead>\n",
       "    <tr style=\"text-align: right;\">\n",
       "      <th></th>\n",
       "      <th>Count of unique values</th>\n",
       "    </tr>\n",
       "  </thead>\n",
       "  <tbody>\n",
       "    <tr>\n",
       "      <th>index</th>\n",
       "      <td>128975</td>\n",
       "    </tr>\n",
       "    <tr>\n",
       "      <th>Order_ID</th>\n",
       "      <td>120379</td>\n",
       "    </tr>\n",
       "    <tr>\n",
       "      <th>Date</th>\n",
       "      <td>91</td>\n",
       "    </tr>\n",
       "    <tr>\n",
       "      <th>Status</th>\n",
       "      <td>13</td>\n",
       "    </tr>\n",
       "    <tr>\n",
       "      <th>Fulfilment</th>\n",
       "      <td>2</td>\n",
       "    </tr>\n",
       "    <tr>\n",
       "      <th>Sales_Channel</th>\n",
       "      <td>2</td>\n",
       "    </tr>\n",
       "    <tr>\n",
       "      <th>ship_service</th>\n",
       "      <td>2</td>\n",
       "    </tr>\n",
       "    <tr>\n",
       "      <th>Style</th>\n",
       "      <td>1377</td>\n",
       "    </tr>\n",
       "    <tr>\n",
       "      <th>SKU</th>\n",
       "      <td>7195</td>\n",
       "    </tr>\n",
       "    <tr>\n",
       "      <th>Category</th>\n",
       "      <td>9</td>\n",
       "    </tr>\n",
       "    <tr>\n",
       "      <th>Size</th>\n",
       "      <td>11</td>\n",
       "    </tr>\n",
       "    <tr>\n",
       "      <th>ASIN</th>\n",
       "      <td>7190</td>\n",
       "    </tr>\n",
       "    <tr>\n",
       "      <th>Courier_Status</th>\n",
       "      <td>3</td>\n",
       "    </tr>\n",
       "    <tr>\n",
       "      <th>Qty</th>\n",
       "      <td>10</td>\n",
       "    </tr>\n",
       "    <tr>\n",
       "      <th>currency</th>\n",
       "      <td>1</td>\n",
       "    </tr>\n",
       "    <tr>\n",
       "      <th>Amount</th>\n",
       "      <td>1410</td>\n",
       "    </tr>\n",
       "    <tr>\n",
       "      <th>ship_city</th>\n",
       "      <td>8955</td>\n",
       "    </tr>\n",
       "    <tr>\n",
       "      <th>ship_state</th>\n",
       "      <td>69</td>\n",
       "    </tr>\n",
       "    <tr>\n",
       "      <th>ship_postal_code</th>\n",
       "      <td>9459</td>\n",
       "    </tr>\n",
       "    <tr>\n",
       "      <th>ship_country</th>\n",
       "      <td>1</td>\n",
       "    </tr>\n",
       "    <tr>\n",
       "      <th>promotion_ids</th>\n",
       "      <td>5787</td>\n",
       "    </tr>\n",
       "    <tr>\n",
       "      <th>B2B</th>\n",
       "      <td>2</td>\n",
       "    </tr>\n",
       "    <tr>\n",
       "      <th>fulfilled_by</th>\n",
       "      <td>1</td>\n",
       "    </tr>\n",
       "  </tbody>\n",
       "</table>\n",
       "</div>"
      ],
      "text/plain": [
       "                  Count of unique values\n",
       "index                             128975\n",
       "Order_ID                          120379\n",
       "Date                                  91\n",
       "Status                                13\n",
       "Fulfilment                             2\n",
       "Sales_Channel                          2\n",
       "ship_service                           2\n",
       "Style                               1377\n",
       "SKU                                 7195\n",
       "Category                               9\n",
       "Size                                  11\n",
       "ASIN                                7190\n",
       "Courier_Status                         3\n",
       "Qty                                   10\n",
       "currency                               1\n",
       "Amount                              1410\n",
       "ship_city                           8955\n",
       "ship_state                            69\n",
       "ship_postal_code                    9459\n",
       "ship_country                           1\n",
       "promotion_ids                       5787\n",
       "B2B                                    2\n",
       "fulfilled_by                           1"
      ]
     },
     "execution_count": 60,
     "metadata": {},
     "output_type": "execute_result"
    }
   ],
   "source": [
    "amazon.nunique().to_frame(name='Count of unique values')"
   ]
  },
  {
   "cell_type": "code",
   "execution_count": 61,
   "metadata": {
    "execution": {
     "iopub.execute_input": "2023-03-08T20:16:58.312329Z",
     "iopub.status.busy": "2023-03-08T20:16:58.311986Z",
     "iopub.status.idle": "2023-03-08T20:16:58.488236Z",
     "shell.execute_reply": "2023-03-08T20:16:58.486926Z"
    },
    "papermill": {
     "duration": 0.192165,
     "end_time": "2023-03-08T20:16:58.490133",
     "exception": false,
     "start_time": "2023-03-08T20:16:58.297968",
     "status": "completed"
    },
    "tags": []
   },
   "outputs": [
    {
     "data": {
      "text/html": [
       "<div>\n",
       "<style scoped>\n",
       "    .dataframe tbody tr th:only-of-type {\n",
       "        vertical-align: middle;\n",
       "    }\n",
       "\n",
       "    .dataframe tbody tr th {\n",
       "        vertical-align: top;\n",
       "    }\n",
       "\n",
       "    .dataframe thead th {\n",
       "        text-align: right;\n",
       "    }\n",
       "</style>\n",
       "<table border=\"1\" class=\"dataframe\">\n",
       "  <thead>\n",
       "    <tr style=\"text-align: right;\">\n",
       "      <th></th>\n",
       "      <th>Unique Values</th>\n",
       "    </tr>\n",
       "  </thead>\n",
       "  <tbody>\n",
       "    <tr>\n",
       "      <th>index</th>\n",
       "      <td>[0, 1, 2, 3, 4, 5, 6, 7, 8, 9, 10, 11, 12, 13,...</td>\n",
       "    </tr>\n",
       "    <tr>\n",
       "      <th>Order_ID</th>\n",
       "      <td>[405-8078784-5731545, 171-9198151-1101146, 404...</td>\n",
       "    </tr>\n",
       "    <tr>\n",
       "      <th>Date</th>\n",
       "      <td>[04-30-22, 04-29-22, 04-28-22, 04-27-22, 04-26...</td>\n",
       "    </tr>\n",
       "    <tr>\n",
       "      <th>Status</th>\n",
       "      <td>[Cancelled, Shipped - Delivered to Buyer, Ship...</td>\n",
       "    </tr>\n",
       "    <tr>\n",
       "      <th>Fulfilment</th>\n",
       "      <td>[Merchant, Amazon]</td>\n",
       "    </tr>\n",
       "    <tr>\n",
       "      <th>Sales_Channel</th>\n",
       "      <td>[Amazon.in, Non-Amazon]</td>\n",
       "    </tr>\n",
       "    <tr>\n",
       "      <th>ship_service</th>\n",
       "      <td>[Standard, Expedited]</td>\n",
       "    </tr>\n",
       "    <tr>\n",
       "      <th>Style</th>\n",
       "      <td>[SET389, JNE3781, JNE3371, J0341, JNE3671, SET...</td>\n",
       "    </tr>\n",
       "    <tr>\n",
       "      <th>SKU</th>\n",
       "      <td>[SET389-KR-NP-S, JNE3781-KR-XXXL, JNE3371-KR-X...</td>\n",
       "    </tr>\n",
       "    <tr>\n",
       "      <th>Category</th>\n",
       "      <td>[Set, kurta, Western Dress, Top, Ethnic Dress,...</td>\n",
       "    </tr>\n",
       "    <tr>\n",
       "      <th>Size</th>\n",
       "      <td>[S, 3XL, XL, L, XXL, XS, 6XL, M, 4XL, 5XL, Free]</td>\n",
       "    </tr>\n",
       "    <tr>\n",
       "      <th>ASIN</th>\n",
       "      <td>[B09KXVBD7Z, B09K3WFS32, B07WV4JV4D, B099NRCT7...</td>\n",
       "    </tr>\n",
       "    <tr>\n",
       "      <th>Courier_Status</th>\n",
       "      <td>[nan, Shipped, Cancelled, Unshipped]</td>\n",
       "    </tr>\n",
       "    <tr>\n",
       "      <th>Qty</th>\n",
       "      <td>[0, 1, 2, 15, 3, 9, 13, 5, 4, 8]</td>\n",
       "    </tr>\n",
       "    <tr>\n",
       "      <th>currency</th>\n",
       "      <td>[INR, nan]</td>\n",
       "    </tr>\n",
       "    <tr>\n",
       "      <th>Amount</th>\n",
       "      <td>[647.62, 406.0, 329.0, 753.33, 574.0, 824.0, 6...</td>\n",
       "    </tr>\n",
       "    <tr>\n",
       "      <th>ship_city</th>\n",
       "      <td>[MUMBAI, BENGALURU, NAVI MUMBAI, PUDUCHERRY, C...</td>\n",
       "    </tr>\n",
       "    <tr>\n",
       "      <th>ship_state</th>\n",
       "      <td>[MAHARASHTRA, KARNATAKA, PUDUCHERRY, TAMIL NAD...</td>\n",
       "    </tr>\n",
       "    <tr>\n",
       "      <th>ship_postal_code</th>\n",
       "      <td>[400081.0, 560085.0, 410210.0, 605008.0, 60007...</td>\n",
       "    </tr>\n",
       "    <tr>\n",
       "      <th>ship_country</th>\n",
       "      <td>[IN, nan]</td>\n",
       "    </tr>\n",
       "    <tr>\n",
       "      <th>promotion_ids</th>\n",
       "      <td>[nan, Amazon PLCC Free-Financing Universal Mer...</td>\n",
       "    </tr>\n",
       "    <tr>\n",
       "      <th>B2B</th>\n",
       "      <td>[False, True]</td>\n",
       "    </tr>\n",
       "    <tr>\n",
       "      <th>fulfilled_by</th>\n",
       "      <td>[Easy Ship, nan]</td>\n",
       "    </tr>\n",
       "  </tbody>\n",
       "</table>\n",
       "</div>"
      ],
      "text/plain": [
       "                                                      Unique Values\n",
       "index             [0, 1, 2, 3, 4, 5, 6, 7, 8, 9, 10, 11, 12, 13,...\n",
       "Order_ID          [405-8078784-5731545, 171-9198151-1101146, 404...\n",
       "Date              [04-30-22, 04-29-22, 04-28-22, 04-27-22, 04-26...\n",
       "Status            [Cancelled, Shipped - Delivered to Buyer, Ship...\n",
       "Fulfilment                                       [Merchant, Amazon]\n",
       "Sales_Channel                               [Amazon.in, Non-Amazon]\n",
       "ship_service                                  [Standard, Expedited]\n",
       "Style             [SET389, JNE3781, JNE3371, J0341, JNE3671, SET...\n",
       "SKU               [SET389-KR-NP-S, JNE3781-KR-XXXL, JNE3371-KR-X...\n",
       "Category          [Set, kurta, Western Dress, Top, Ethnic Dress,...\n",
       "Size               [S, 3XL, XL, L, XXL, XS, 6XL, M, 4XL, 5XL, Free]\n",
       "ASIN              [B09KXVBD7Z, B09K3WFS32, B07WV4JV4D, B099NRCT7...\n",
       "Courier_Status                 [nan, Shipped, Cancelled, Unshipped]\n",
       "Qty                                [0, 1, 2, 15, 3, 9, 13, 5, 4, 8]\n",
       "currency                                                 [INR, nan]\n",
       "Amount            [647.62, 406.0, 329.0, 753.33, 574.0, 824.0, 6...\n",
       "ship_city         [MUMBAI, BENGALURU, NAVI MUMBAI, PUDUCHERRY, C...\n",
       "ship_state        [MAHARASHTRA, KARNATAKA, PUDUCHERRY, TAMIL NAD...\n",
       "ship_postal_code  [400081.0, 560085.0, 410210.0, 605008.0, 60007...\n",
       "ship_country                                              [IN, nan]\n",
       "promotion_ids     [nan, Amazon PLCC Free-Financing Universal Mer...\n",
       "B2B                                                   [False, True]\n",
       "fulfilled_by                                       [Easy Ship, nan]"
      ]
     },
     "execution_count": 61,
     "metadata": {},
     "output_type": "execute_result"
    }
   ],
   "source": [
    "amazon.apply(pd.unique).to_frame(name='Unique Values')"
   ]
  },
  {
   "cell_type": "code",
   "execution_count": 62,
   "metadata": {
    "execution": {
     "iopub.execute_input": "2023-03-08T20:16:58.51783Z",
     "iopub.status.busy": "2023-03-08T20:16:58.517507Z",
     "iopub.status.idle": "2023-03-08T20:16:58.556317Z",
     "shell.execute_reply": "2023-03-08T20:16:58.555452Z"
    },
    "papermill": {
     "duration": 0.054932,
     "end_time": "2023-03-08T20:16:58.558238",
     "exception": false,
     "start_time": "2023-03-08T20:16:58.503306",
     "status": "completed"
    },
    "tags": []
   },
   "outputs": [
    {
     "data": {
      "text/html": [
       "<div>\n",
       "<style scoped>\n",
       "    .dataframe tbody tr th:only-of-type {\n",
       "        vertical-align: middle;\n",
       "    }\n",
       "\n",
       "    .dataframe tbody tr th {\n",
       "        vertical-align: top;\n",
       "    }\n",
       "\n",
       "    .dataframe thead th {\n",
       "        text-align: right;\n",
       "    }\n",
       "</style>\n",
       "<table border=\"1\" class=\"dataframe\">\n",
       "  <thead>\n",
       "    <tr style=\"text-align: right;\">\n",
       "      <th></th>\n",
       "      <th>count</th>\n",
       "      <th>mean</th>\n",
       "      <th>std</th>\n",
       "      <th>min</th>\n",
       "      <th>25%</th>\n",
       "      <th>50%</th>\n",
       "      <th>75%</th>\n",
       "      <th>max</th>\n",
       "    </tr>\n",
       "  </thead>\n",
       "  <tbody>\n",
       "    <tr>\n",
       "      <th>index</th>\n",
       "      <td>128975.0</td>\n",
       "      <td>64487.000000</td>\n",
       "      <td>37232.019822</td>\n",
       "      <td>0.0</td>\n",
       "      <td>32243.5</td>\n",
       "      <td>64487.0</td>\n",
       "      <td>96730.5</td>\n",
       "      <td>128974.0</td>\n",
       "    </tr>\n",
       "    <tr>\n",
       "      <th>Qty</th>\n",
       "      <td>128975.0</td>\n",
       "      <td>0.904431</td>\n",
       "      <td>0.313354</td>\n",
       "      <td>0.0</td>\n",
       "      <td>1.0</td>\n",
       "      <td>1.0</td>\n",
       "      <td>1.0</td>\n",
       "      <td>15.0</td>\n",
       "    </tr>\n",
       "    <tr>\n",
       "      <th>Amount</th>\n",
       "      <td>121180.0</td>\n",
       "      <td>648.561465</td>\n",
       "      <td>281.211687</td>\n",
       "      <td>0.0</td>\n",
       "      <td>449.0</td>\n",
       "      <td>605.0</td>\n",
       "      <td>788.0</td>\n",
       "      <td>5584.0</td>\n",
       "    </tr>\n",
       "    <tr>\n",
       "      <th>ship_postal_code</th>\n",
       "      <td>128942.0</td>\n",
       "      <td>463966.236509</td>\n",
       "      <td>191476.764941</td>\n",
       "      <td>110001.0</td>\n",
       "      <td>382421.0</td>\n",
       "      <td>500033.0</td>\n",
       "      <td>600024.0</td>\n",
       "      <td>989898.0</td>\n",
       "    </tr>\n",
       "  </tbody>\n",
       "</table>\n",
       "</div>"
      ],
      "text/plain": [
       "                     count           mean            std       min       25%  \\\n",
       "index             128975.0   64487.000000   37232.019822       0.0   32243.5   \n",
       "Qty               128975.0       0.904431       0.313354       0.0       1.0   \n",
       "Amount            121180.0     648.561465     281.211687       0.0     449.0   \n",
       "ship_postal_code  128942.0  463966.236509  191476.764941  110001.0  382421.0   \n",
       "\n",
       "                       50%       75%       max  \n",
       "index              64487.0   96730.5  128974.0  \n",
       "Qty                    1.0       1.0      15.0  \n",
       "Amount               605.0     788.0    5584.0  \n",
       "ship_postal_code  500033.0  600024.0  989898.0  "
      ]
     },
     "execution_count": 62,
     "metadata": {},
     "output_type": "execute_result"
    }
   ],
   "source": [
    "amazon.describe().T"
   ]
  },
  {
   "cell_type": "code",
   "execution_count": 63,
   "metadata": {
    "execution": {
     "iopub.execute_input": "2023-03-08T20:16:58.591527Z",
     "iopub.status.busy": "2023-03-08T20:16:58.59117Z",
     "iopub.status.idle": "2023-03-08T20:16:58.905538Z",
     "shell.execute_reply": "2023-03-08T20:16:58.904396Z"
    },
    "papermill": {
     "duration": 0.335838,
     "end_time": "2023-03-08T20:16:58.907523",
     "exception": false,
     "start_time": "2023-03-08T20:16:58.571685",
     "status": "completed"
    },
    "tags": []
   },
   "outputs": [
    {
     "data": {
      "text/html": [
       "<div>\n",
       "<style scoped>\n",
       "    .dataframe tbody tr th:only-of-type {\n",
       "        vertical-align: middle;\n",
       "    }\n",
       "\n",
       "    .dataframe tbody tr th {\n",
       "        vertical-align: top;\n",
       "    }\n",
       "\n",
       "    .dataframe thead th {\n",
       "        text-align: right;\n",
       "    }\n",
       "</style>\n",
       "<table border=\"1\" class=\"dataframe\">\n",
       "  <thead>\n",
       "    <tr style=\"text-align: right;\">\n",
       "      <th></th>\n",
       "      <th>Order_ID</th>\n",
       "      <th>Date</th>\n",
       "      <th>Status</th>\n",
       "      <th>Fulfilment</th>\n",
       "      <th>Sales_Channel</th>\n",
       "      <th>ship_service</th>\n",
       "      <th>Style</th>\n",
       "      <th>SKU</th>\n",
       "      <th>Category</th>\n",
       "      <th>Size</th>\n",
       "      <th>ASIN</th>\n",
       "      <th>Courier_Status</th>\n",
       "      <th>currency</th>\n",
       "      <th>ship_city</th>\n",
       "      <th>ship_state</th>\n",
       "      <th>ship_country</th>\n",
       "      <th>promotion_ids</th>\n",
       "      <th>fulfilled_by</th>\n",
       "    </tr>\n",
       "  </thead>\n",
       "  <tbody>\n",
       "    <tr>\n",
       "      <th>count</th>\n",
       "      <td>128975</td>\n",
       "      <td>128975</td>\n",
       "      <td>128975</td>\n",
       "      <td>128975</td>\n",
       "      <td>128975</td>\n",
       "      <td>128975</td>\n",
       "      <td>128975</td>\n",
       "      <td>128975</td>\n",
       "      <td>128975</td>\n",
       "      <td>128975</td>\n",
       "      <td>128975</td>\n",
       "      <td>122103</td>\n",
       "      <td>121180</td>\n",
       "      <td>128942</td>\n",
       "      <td>128942</td>\n",
       "      <td>128942</td>\n",
       "      <td>79822</td>\n",
       "      <td>39277</td>\n",
       "    </tr>\n",
       "    <tr>\n",
       "      <th>unique</th>\n",
       "      <td>120379</td>\n",
       "      <td>91</td>\n",
       "      <td>13</td>\n",
       "      <td>2</td>\n",
       "      <td>2</td>\n",
       "      <td>2</td>\n",
       "      <td>1377</td>\n",
       "      <td>7195</td>\n",
       "      <td>9</td>\n",
       "      <td>11</td>\n",
       "      <td>7190</td>\n",
       "      <td>3</td>\n",
       "      <td>1</td>\n",
       "      <td>8955</td>\n",
       "      <td>69</td>\n",
       "      <td>1</td>\n",
       "      <td>5787</td>\n",
       "      <td>1</td>\n",
       "    </tr>\n",
       "    <tr>\n",
       "      <th>top</th>\n",
       "      <td>403-4984515-8861958</td>\n",
       "      <td>05-03-2022</td>\n",
       "      <td>Shipped</td>\n",
       "      <td>Amazon</td>\n",
       "      <td>Amazon.in</td>\n",
       "      <td>Expedited</td>\n",
       "      <td>JNE3797</td>\n",
       "      <td>JNE3797-KR-L</td>\n",
       "      <td>Set</td>\n",
       "      <td>M</td>\n",
       "      <td>B09SDXFFQ1</td>\n",
       "      <td>Shipped</td>\n",
       "      <td>INR</td>\n",
       "      <td>BENGALURU</td>\n",
       "      <td>MAHARASHTRA</td>\n",
       "      <td>IN</td>\n",
       "      <td>IN Core Free Shipping 2015/04/08 23-48-5-108</td>\n",
       "      <td>Easy Ship</td>\n",
       "    </tr>\n",
       "    <tr>\n",
       "      <th>freq</th>\n",
       "      <td>12</td>\n",
       "      <td>2085</td>\n",
       "      <td>77804</td>\n",
       "      <td>89698</td>\n",
       "      <td>128851</td>\n",
       "      <td>88615</td>\n",
       "      <td>4224</td>\n",
       "      <td>773</td>\n",
       "      <td>50284</td>\n",
       "      <td>22711</td>\n",
       "      <td>773</td>\n",
       "      <td>109487</td>\n",
       "      <td>121180</td>\n",
       "      <td>11217</td>\n",
       "      <td>22260</td>\n",
       "      <td>128942</td>\n",
       "      <td>46100</td>\n",
       "      <td>39277</td>\n",
       "    </tr>\n",
       "  </tbody>\n",
       "</table>\n",
       "</div>"
      ],
      "text/plain": [
       "                   Order_ID        Date   Status Fulfilment Sales_Channel   \\\n",
       "count                128975      128975   128975     128975         128975   \n",
       "unique               120379          91       13          2              2   \n",
       "top     403-4984515-8861958  05-03-2022  Shipped     Amazon      Amazon.in   \n",
       "freq                     12        2085    77804      89698         128851   \n",
       "\n",
       "       ship_service    Style           SKU Category    Size        ASIN  \\\n",
       "count        128975   128975        128975   128975  128975      128975   \n",
       "unique            2     1377          7195        9      11        7190   \n",
       "top       Expedited  JNE3797  JNE3797-KR-L      Set       M  B09SDXFFQ1   \n",
       "freq          88615     4224           773    50284   22711         773   \n",
       "\n",
       "       Courier_Status currency  ship_city   ship_state ship_country  \\\n",
       "count          122103   121180     128942       128942       128942   \n",
       "unique              3        1       8955           69            1   \n",
       "top           Shipped      INR  BENGALURU  MAHARASHTRA           IN   \n",
       "freq           109487   121180      11217        22260       128942   \n",
       "\n",
       "                                       promotion_ids fulfilled_by  \n",
       "count                                          79822        39277  \n",
       "unique                                          5787            1  \n",
       "top     IN Core Free Shipping 2015/04/08 23-48-5-108    Easy Ship  \n",
       "freq                                           46100        39277  "
      ]
     },
     "execution_count": 63,
     "metadata": {},
     "output_type": "execute_result"
    }
   ],
   "source": [
    "amazon.describe(include='O')"
   ]
  },
  {
   "cell_type": "code",
   "execution_count": 64,
   "metadata": {
    "execution": {
     "iopub.execute_input": "2023-03-08T20:16:58.936027Z",
     "iopub.status.busy": "2023-03-08T20:16:58.93572Z",
     "iopub.status.idle": "2023-03-08T20:17:01.50545Z",
     "shell.execute_reply": "2023-03-08T20:17:01.503965Z"
    },
    "papermill": {
     "duration": 2.586135,
     "end_time": "2023-03-08T20:17:01.507361",
     "exception": false,
     "start_time": "2023-03-08T20:16:58.921226",
     "status": "completed"
    },
    "tags": []
   },
   "outputs": [
    {
     "data": {
      "image/png": "[encoded data removed]",
      "text/plain": [
       "<Figure size 640x480 with 2 Axes>"
      ]
     },
     "metadata": {},
     "output_type": "display_data"
    }
   ],
   "source": [
    "sns.heatmap(amazon.isnull())\n",
    "plt.show()"
   ]
  },
  {
   "cell_type": "code",
   "execution_count": 65,
   "metadata": {
    "execution": {
     "iopub.execute_input": "2023-03-08T20:17:01.539614Z",
     "iopub.status.busy": "2023-03-08T20:17:01.539287Z",
     "iopub.status.idle": "2023-03-08T20:17:01.636899Z",
     "shell.execute_reply": "2023-03-08T20:17:01.636061Z"
    },
    "papermill": {
     "duration": 0.115738,
     "end_time": "2023-03-08T20:17:01.639251",
     "exception": false,
     "start_time": "2023-03-08T20:17:01.523513",
     "status": "completed"
    },
    "tags": []
   },
   "outputs": [
    {
     "data": {
      "text/plain": [
       "index                   0\n",
       "Order_ID                0\n",
       "Date                    0\n",
       "Status                  0\n",
       "Fulfilment              0\n",
       "Sales_Channel           0\n",
       "ship_service            0\n",
       "Style                   0\n",
       "SKU                     0\n",
       "Category                0\n",
       "Size                    0\n",
       "ASIN                    0\n",
       "Courier_Status       6872\n",
       "Qty                     0\n",
       "currency             7795\n",
       "Amount               7795\n",
       "ship_city              33\n",
       "ship_state             33\n",
       "ship_postal_code       33\n",
       "ship_country           33\n",
       "promotion_ids       49153\n",
       "B2B                     0\n",
       "fulfilled_by        89698\n",
       "dtype: int64"
      ]
     },
     "execution_count": 65,
     "metadata": {},
     "output_type": "execute_result"
    }
   ],
   "source": [
    "amazon.isnull().sum()"
   ]
  },
  {
   "cell_type": "markdown",
   "metadata": {
    "jp-MarkdownHeadingCollapsed": true,
    "papermill": {
     "duration": 0.014814,
     "end_time": "2023-03-08T20:17:01.669362",
     "exception": false,
     "start_time": "2023-03-08T20:17:01.654548",
     "status": "completed"
    },
    "tags": []
   },
   "source": [
    "**Data Cleaning**"
   ]
  },
  {
   "cell_type": "markdown",
   "metadata": {
    "papermill": {
     "duration": 0.014863,
     "end_time": "2023-03-08T20:17:01.728629",
     "exception": false,
     "start_time": "2023-03-08T20:17:01.713766",
     "status": "completed"
    },
    "tags": []
   },
   "source": [
    "### Droping Columns"
   ]
  },
  {
   "cell_type": "markdown",
   "metadata": {
    "papermill": {
     "duration": 0.014404,
     "end_time": "2023-03-08T20:17:01.812964",
     "exception": false,
     "start_time": "2023-03-08T20:17:01.79856",
     "status": "completed"
    },
    "tags": []
   },
   "source": [
    "### Dropping Duplicates"
   ]
  },
  {
   "cell_type": "code",
   "execution_count": 66,
   "metadata": {
    "execution": {
     "iopub.execute_input": "2023-03-08T20:17:01.844027Z",
     "iopub.status.busy": "2023-03-08T20:17:01.843529Z",
     "iopub.status.idle": "2023-03-08T20:17:01.906368Z",
     "shell.execute_reply": "2023-03-08T20:17:01.905366Z"
    },
    "papermill": {
     "duration": 0.080621,
     "end_time": "2023-03-08T20:17:01.908337",
     "exception": false,
     "start_time": "2023-03-08T20:17:01.827716",
     "status": "completed"
    },
    "tags": []
   },
   "outputs": [
    {
     "data": {
      "text/html": [
       "<div>\n",
       "<style scoped>\n",
       "    .dataframe tbody tr th:only-of-type {\n",
       "        vertical-align: middle;\n",
       "    }\n",
       "\n",
       "    .dataframe tbody tr th {\n",
       "        vertical-align: top;\n",
       "    }\n",
       "\n",
       "    .dataframe thead th {\n",
       "        text-align: right;\n",
       "    }\n",
       "</style>\n",
       "<table border=\"1\" class=\"dataframe\">\n",
       "  <thead>\n",
       "    <tr style=\"text-align: right;\">\n",
       "      <th></th>\n",
       "      <th>index</th>\n",
       "      <th>Order_ID</th>\n",
       "      <th>Date</th>\n",
       "      <th>Status</th>\n",
       "      <th>Fulfilment</th>\n",
       "      <th>Sales_Channel</th>\n",
       "      <th>ship_service</th>\n",
       "      <th>Style</th>\n",
       "      <th>SKU</th>\n",
       "      <th>Category</th>\n",
       "      <th>...</th>\n",
       "      <th>Qty</th>\n",
       "      <th>currency</th>\n",
       "      <th>Amount</th>\n",
       "      <th>ship_city</th>\n",
       "      <th>ship_state</th>\n",
       "      <th>ship_postal_code</th>\n",
       "      <th>ship_country</th>\n",
       "      <th>promotion_ids</th>\n",
       "      <th>B2B</th>\n",
       "      <th>fulfilled_by</th>\n",
       "    </tr>\n",
       "  </thead>\n",
       "  <tbody>\n",
       "    <tr>\n",
       "      <th>30660</th>\n",
       "      <td>30660</td>\n",
       "      <td>406-0372545-6086735</td>\n",
       "      <td>04-12-2022</td>\n",
       "      <td>Cancelled</td>\n",
       "      <td>Amazon</td>\n",
       "      <td>Amazon.in</td>\n",
       "      <td>Expedited</td>\n",
       "      <td>SET197</td>\n",
       "      <td>SET197-KR-NP-L</td>\n",
       "      <td>Set</td>\n",
       "      <td>...</td>\n",
       "      <td>0</td>\n",
       "      <td>NaN</td>\n",
       "      <td>NaN</td>\n",
       "      <td>Siliguri</td>\n",
       "      <td>WEST BENGAL</td>\n",
       "      <td>734008.0</td>\n",
       "      <td>IN</td>\n",
       "      <td>NaN</td>\n",
       "      <td>False</td>\n",
       "      <td>NaN</td>\n",
       "    </tr>\n",
       "    <tr>\n",
       "      <th>30661</th>\n",
       "      <td>30661</td>\n",
       "      <td>406-0372545-6086735</td>\n",
       "      <td>04-12-2022</td>\n",
       "      <td>Cancelled</td>\n",
       "      <td>Amazon</td>\n",
       "      <td>Amazon.in</td>\n",
       "      <td>Expedited</td>\n",
       "      <td>SET197</td>\n",
       "      <td>SET197-KR-NP-L</td>\n",
       "      <td>Set</td>\n",
       "      <td>...</td>\n",
       "      <td>0</td>\n",
       "      <td>NaN</td>\n",
       "      <td>NaN</td>\n",
       "      <td>Siliguri</td>\n",
       "      <td>WEST BENGAL</td>\n",
       "      <td>734008.0</td>\n",
       "      <td>IN</td>\n",
       "      <td>NaN</td>\n",
       "      <td>False</td>\n",
       "      <td>NaN</td>\n",
       "    </tr>\n",
       "    <tr>\n",
       "      <th>41291</th>\n",
       "      <td>41291</td>\n",
       "      <td>408-0373839-4433120</td>\n",
       "      <td>04-05-2022</td>\n",
       "      <td>Cancelled</td>\n",
       "      <td>Amazon</td>\n",
       "      <td>Amazon.in</td>\n",
       "      <td>Expedited</td>\n",
       "      <td>JNE3501</td>\n",
       "      <td>JNE3501-KR-M</td>\n",
       "      <td>kurta</td>\n",
       "      <td>...</td>\n",
       "      <td>0</td>\n",
       "      <td>NaN</td>\n",
       "      <td>NaN</td>\n",
       "      <td>BENGALURU</td>\n",
       "      <td>KARNATAKA</td>\n",
       "      <td>560072.0</td>\n",
       "      <td>IN</td>\n",
       "      <td>NaN</td>\n",
       "      <td>False</td>\n",
       "      <td>NaN</td>\n",
       "    </tr>\n",
       "    <tr>\n",
       "      <th>41292</th>\n",
       "      <td>41292</td>\n",
       "      <td>408-0373839-4433120</td>\n",
       "      <td>04-05-2022</td>\n",
       "      <td>Cancelled</td>\n",
       "      <td>Amazon</td>\n",
       "      <td>Amazon.in</td>\n",
       "      <td>Expedited</td>\n",
       "      <td>JNE3501</td>\n",
       "      <td>JNE3501-KR-M</td>\n",
       "      <td>kurta</td>\n",
       "      <td>...</td>\n",
       "      <td>0</td>\n",
       "      <td>NaN</td>\n",
       "      <td>NaN</td>\n",
       "      <td>BENGALURU</td>\n",
       "      <td>KARNATAKA</td>\n",
       "      <td>560072.0</td>\n",
       "      <td>IN</td>\n",
       "      <td>NaN</td>\n",
       "      <td>False</td>\n",
       "      <td>NaN</td>\n",
       "    </tr>\n",
       "    <tr>\n",
       "      <th>52330</th>\n",
       "      <td>52330</td>\n",
       "      <td>407-8364731-6449117</td>\n",
       "      <td>05-29-22</td>\n",
       "      <td>Shipped</td>\n",
       "      <td>Amazon</td>\n",
       "      <td>Amazon.in</td>\n",
       "      <td>Expedited</td>\n",
       "      <td>JNE3769</td>\n",
       "      <td>JNE3769-KR-L</td>\n",
       "      <td>kurta</td>\n",
       "      <td>...</td>\n",
       "      <td>0</td>\n",
       "      <td>NaN</td>\n",
       "      <td>NaN</td>\n",
       "      <td>Theni</td>\n",
       "      <td>TAMIL NADU</td>\n",
       "      <td>625579.0</td>\n",
       "      <td>IN</td>\n",
       "      <td>IN Core Free Shipping 2015/04/08 23-48-5-108</td>\n",
       "      <td>False</td>\n",
       "      <td>NaN</td>\n",
       "    </tr>\n",
       "    <tr>\n",
       "      <th>52333</th>\n",
       "      <td>52333</td>\n",
       "      <td>407-8364731-6449117</td>\n",
       "      <td>05-29-22</td>\n",
       "      <td>Shipped</td>\n",
       "      <td>Amazon</td>\n",
       "      <td>Amazon.in</td>\n",
       "      <td>Expedited</td>\n",
       "      <td>JNE3769</td>\n",
       "      <td>JNE3769-KR-L</td>\n",
       "      <td>kurta</td>\n",
       "      <td>...</td>\n",
       "      <td>1</td>\n",
       "      <td>INR</td>\n",
       "      <td>487.0</td>\n",
       "      <td>Theni</td>\n",
       "      <td>TAMIL NADU</td>\n",
       "      <td>625579.0</td>\n",
       "      <td>IN</td>\n",
       "      <td>IN Core Free Shipping 2015/04/08 23-48-5-108</td>\n",
       "      <td>False</td>\n",
       "      <td>NaN</td>\n",
       "    </tr>\n",
       "    <tr>\n",
       "      <th>79844</th>\n",
       "      <td>79844</td>\n",
       "      <td>171-9628368-5329958</td>\n",
       "      <td>05-07-2022</td>\n",
       "      <td>Cancelled</td>\n",
       "      <td>Amazon</td>\n",
       "      <td>Amazon.in</td>\n",
       "      <td>Expedited</td>\n",
       "      <td>J0329</td>\n",
       "      <td>J0329-KR-L</td>\n",
       "      <td>kurta</td>\n",
       "      <td>...</td>\n",
       "      <td>0</td>\n",
       "      <td>NaN</td>\n",
       "      <td>NaN</td>\n",
       "      <td>ERNAKULAM</td>\n",
       "      <td>KERALA</td>\n",
       "      <td>682017.0</td>\n",
       "      <td>IN</td>\n",
       "      <td>NaN</td>\n",
       "      <td>False</td>\n",
       "      <td>NaN</td>\n",
       "    </tr>\n",
       "    <tr>\n",
       "      <th>79845</th>\n",
       "      <td>79845</td>\n",
       "      <td>171-9628368-5329958</td>\n",
       "      <td>05-07-2022</td>\n",
       "      <td>Cancelled</td>\n",
       "      <td>Amazon</td>\n",
       "      <td>Amazon.in</td>\n",
       "      <td>Expedited</td>\n",
       "      <td>J0329</td>\n",
       "      <td>J0329-KR-L</td>\n",
       "      <td>kurta</td>\n",
       "      <td>...</td>\n",
       "      <td>0</td>\n",
       "      <td>NaN</td>\n",
       "      <td>NaN</td>\n",
       "      <td>ERNAKULAM</td>\n",
       "      <td>KERALA</td>\n",
       "      <td>682017.0</td>\n",
       "      <td>IN</td>\n",
       "      <td>NaN</td>\n",
       "      <td>False</td>\n",
       "      <td>NaN</td>\n",
       "    </tr>\n",
       "    <tr>\n",
       "      <th>85790</th>\n",
       "      <td>85790</td>\n",
       "      <td>171-3249942-2207542</td>\n",
       "      <td>05-03-2022</td>\n",
       "      <td>Shipped</td>\n",
       "      <td>Amazon</td>\n",
       "      <td>Amazon.in</td>\n",
       "      <td>Expedited</td>\n",
       "      <td>SET323</td>\n",
       "      <td>SET323-KR-NP-XL</td>\n",
       "      <td>Set</td>\n",
       "      <td>...</td>\n",
       "      <td>1</td>\n",
       "      <td>INR</td>\n",
       "      <td>939.0</td>\n",
       "      <td>PUNE</td>\n",
       "      <td>MAHARASHTRA</td>\n",
       "      <td>411057.0</td>\n",
       "      <td>IN</td>\n",
       "      <td>IN Core Free Shipping 2015/04/08 23-48-5-108</td>\n",
       "      <td>False</td>\n",
       "      <td>NaN</td>\n",
       "    </tr>\n",
       "    <tr>\n",
       "      <th>85791</th>\n",
       "      <td>85791</td>\n",
       "      <td>171-3249942-2207542</td>\n",
       "      <td>05-03-2022</td>\n",
       "      <td>Shipped</td>\n",
       "      <td>Amazon</td>\n",
       "      <td>Amazon.in</td>\n",
       "      <td>Expedited</td>\n",
       "      <td>SET323</td>\n",
       "      <td>SET323-KR-NP-XL</td>\n",
       "      <td>Set</td>\n",
       "      <td>...</td>\n",
       "      <td>1</td>\n",
       "      <td>INR</td>\n",
       "      <td>939.0</td>\n",
       "      <td>PUNE</td>\n",
       "      <td>MAHARASHTRA</td>\n",
       "      <td>411057.0</td>\n",
       "      <td>IN</td>\n",
       "      <td>IN Core Free Shipping 2015/04/08 23-48-5-108</td>\n",
       "      <td>False</td>\n",
       "      <td>NaN</td>\n",
       "    </tr>\n",
       "    <tr>\n",
       "      <th>86418</th>\n",
       "      <td>86418</td>\n",
       "      <td>405-8669298-3850736</td>\n",
       "      <td>05-03-2022</td>\n",
       "      <td>Shipped</td>\n",
       "      <td>Amazon</td>\n",
       "      <td>Amazon.in</td>\n",
       "      <td>Expedited</td>\n",
       "      <td>MEN5025</td>\n",
       "      <td>MEN5025-KR-XXXL</td>\n",
       "      <td>kurta</td>\n",
       "      <td>...</td>\n",
       "      <td>1</td>\n",
       "      <td>INR</td>\n",
       "      <td>533.0</td>\n",
       "      <td>GHAZIABAD</td>\n",
       "      <td>UTTAR PRADESH</td>\n",
       "      <td>201010.0</td>\n",
       "      <td>IN</td>\n",
       "      <td>IN Core Free Shipping 2015/04/08 23-48-5-108</td>\n",
       "      <td>False</td>\n",
       "      <td>NaN</td>\n",
       "    </tr>\n",
       "    <tr>\n",
       "      <th>86419</th>\n",
       "      <td>86419</td>\n",
       "      <td>405-8669298-3850736</td>\n",
       "      <td>05-03-2022</td>\n",
       "      <td>Shipped</td>\n",
       "      <td>Amazon</td>\n",
       "      <td>Amazon.in</td>\n",
       "      <td>Expedited</td>\n",
       "      <td>MEN5025</td>\n",
       "      <td>MEN5025-KR-XXXL</td>\n",
       "      <td>kurta</td>\n",
       "      <td>...</td>\n",
       "      <td>1</td>\n",
       "      <td>INR</td>\n",
       "      <td>533.0</td>\n",
       "      <td>GHAZIABAD</td>\n",
       "      <td>UTTAR PRADESH</td>\n",
       "      <td>201010.0</td>\n",
       "      <td>IN</td>\n",
       "      <td>IN Core Free Shipping 2015/04/08 23-48-5-108</td>\n",
       "      <td>False</td>\n",
       "      <td>NaN</td>\n",
       "    </tr>\n",
       "    <tr>\n",
       "      <th>98954</th>\n",
       "      <td>98954</td>\n",
       "      <td>407-4853873-4978725</td>\n",
       "      <td>06-22-22</td>\n",
       "      <td>Shipped</td>\n",
       "      <td>Amazon</td>\n",
       "      <td>Amazon.in</td>\n",
       "      <td>Expedited</td>\n",
       "      <td>J0230</td>\n",
       "      <td>J0230-SKD-M</td>\n",
       "      <td>Set</td>\n",
       "      <td>...</td>\n",
       "      <td>1</td>\n",
       "      <td>INR</td>\n",
       "      <td>1163.0</td>\n",
       "      <td>Zirakpur</td>\n",
       "      <td>Punjab</td>\n",
       "      <td>140603.0</td>\n",
       "      <td>IN</td>\n",
       "      <td>IN Core Free Shipping 2015/04/08 23-48-5-108</td>\n",
       "      <td>False</td>\n",
       "      <td>NaN</td>\n",
       "    </tr>\n",
       "    <tr>\n",
       "      <th>98955</th>\n",
       "      <td>98955</td>\n",
       "      <td>407-4853873-4978725</td>\n",
       "      <td>06-22-22</td>\n",
       "      <td>Shipped</td>\n",
       "      <td>Amazon</td>\n",
       "      <td>Amazon.in</td>\n",
       "      <td>Expedited</td>\n",
       "      <td>J0230</td>\n",
       "      <td>J0230-SKD-M</td>\n",
       "      <td>Set</td>\n",
       "      <td>...</td>\n",
       "      <td>1</td>\n",
       "      <td>INR</td>\n",
       "      <td>1163.0</td>\n",
       "      <td>Zirakpur</td>\n",
       "      <td>Punjab</td>\n",
       "      <td>140603.0</td>\n",
       "      <td>IN</td>\n",
       "      <td>IN Core Free Shipping 2015/04/08 23-48-5-108</td>\n",
       "      <td>False</td>\n",
       "      <td>NaN</td>\n",
       "    </tr>\n",
       "  </tbody>\n",
       "</table>\n",
       "<p>14 rows × 23 columns</p>\n",
       "</div>"
      ],
      "text/plain": [
       "       index             Order_ID        Date     Status Fulfilment  \\\n",
       "30660  30660  406-0372545-6086735  04-12-2022  Cancelled     Amazon   \n",
       "30661  30661  406-0372545-6086735  04-12-2022  Cancelled     Amazon   \n",
       "41291  41291  408-0373839-4433120  04-05-2022  Cancelled     Amazon   \n",
       "41292  41292  408-0373839-4433120  04-05-2022  Cancelled     Amazon   \n",
       "52330  52330  407-8364731-6449117    05-29-22    Shipped     Amazon   \n",
       "52333  52333  407-8364731-6449117    05-29-22    Shipped     Amazon   \n",
       "79844  79844  171-9628368-5329958  05-07-2022  Cancelled     Amazon   \n",
       "79845  79845  171-9628368-5329958  05-07-2022  Cancelled     Amazon   \n",
       "85790  85790  171-3249942-2207542  05-03-2022    Shipped     Amazon   \n",
       "85791  85791  171-3249942-2207542  05-03-2022    Shipped     Amazon   \n",
       "86418  86418  405-8669298-3850736  05-03-2022    Shipped     Amazon   \n",
       "86419  86419  405-8669298-3850736  05-03-2022    Shipped     Amazon   \n",
       "98954  98954  407-4853873-4978725    06-22-22    Shipped     Amazon   \n",
       "98955  98955  407-4853873-4978725    06-22-22    Shipped     Amazon   \n",
       "\n",
       "      Sales_Channel  ship_service    Style              SKU Category  ... Qty  \\\n",
       "30660      Amazon.in    Expedited   SET197   SET197-KR-NP-L      Set  ...   0   \n",
       "30661      Amazon.in    Expedited   SET197   SET197-KR-NP-L      Set  ...   0   \n",
       "41291      Amazon.in    Expedited  JNE3501     JNE3501-KR-M    kurta  ...   0   \n",
       "41292      Amazon.in    Expedited  JNE3501     JNE3501-KR-M    kurta  ...   0   \n",
       "52330      Amazon.in    Expedited  JNE3769     JNE3769-KR-L    kurta  ...   0   \n",
       "52333      Amazon.in    Expedited  JNE3769     JNE3769-KR-L    kurta  ...   1   \n",
       "79844      Amazon.in    Expedited    J0329       J0329-KR-L    kurta  ...   0   \n",
       "79845      Amazon.in    Expedited    J0329       J0329-KR-L    kurta  ...   0   \n",
       "85790      Amazon.in    Expedited   SET323  SET323-KR-NP-XL      Set  ...   1   \n",
       "85791      Amazon.in    Expedited   SET323  SET323-KR-NP-XL      Set  ...   1   \n",
       "86418      Amazon.in    Expedited  MEN5025  MEN5025-KR-XXXL    kurta  ...   1   \n",
       "86419      Amazon.in    Expedited  MEN5025  MEN5025-KR-XXXL    kurta  ...   1   \n",
       "98954      Amazon.in    Expedited    J0230      J0230-SKD-M      Set  ...   1   \n",
       "98955      Amazon.in    Expedited    J0230      J0230-SKD-M      Set  ...   1   \n",
       "\n",
       "      currency  Amount  ship_city     ship_state  ship_postal_code  \\\n",
       "30660      NaN     NaN   Siliguri    WEST BENGAL          734008.0   \n",
       "30661      NaN     NaN   Siliguri    WEST BENGAL          734008.0   \n",
       "41291      NaN     NaN  BENGALURU      KARNATAKA          560072.0   \n",
       "41292      NaN     NaN  BENGALURU      KARNATAKA          560072.0   \n",
       "52330      NaN     NaN      Theni     TAMIL NADU          625579.0   \n",
       "52333      INR   487.0      Theni     TAMIL NADU          625579.0   \n",
       "79844      NaN     NaN  ERNAKULAM         KERALA          682017.0   \n",
       "79845      NaN     NaN  ERNAKULAM         KERALA          682017.0   \n",
       "85790      INR   939.0       PUNE    MAHARASHTRA          411057.0   \n",
       "85791      INR   939.0       PUNE    MAHARASHTRA          411057.0   \n",
       "86418      INR   533.0  GHAZIABAD  UTTAR PRADESH          201010.0   \n",
       "86419      INR   533.0  GHAZIABAD  UTTAR PRADESH          201010.0   \n",
       "98954      INR  1163.0   Zirakpur         Punjab          140603.0   \n",
       "98955      INR  1163.0   Zirakpur         Punjab          140603.0   \n",
       "\n",
       "      ship_country                                 promotion_ids    B2B  \\\n",
       "30660           IN                                           NaN  False   \n",
       "30661           IN                                           NaN  False   \n",
       "41291           IN                                           NaN  False   \n",
       "41292           IN                                           NaN  False   \n",
       "52330           IN  IN Core Free Shipping 2015/04/08 23-48-5-108  False   \n",
       "52333           IN  IN Core Free Shipping 2015/04/08 23-48-5-108  False   \n",
       "79844           IN                                           NaN  False   \n",
       "79845           IN                                           NaN  False   \n",
       "85790           IN  IN Core Free Shipping 2015/04/08 23-48-5-108  False   \n",
       "85791           IN  IN Core Free Shipping 2015/04/08 23-48-5-108  False   \n",
       "86418           IN  IN Core Free Shipping 2015/04/08 23-48-5-108  False   \n",
       "86419           IN  IN Core Free Shipping 2015/04/08 23-48-5-108  False   \n",
       "98954           IN  IN Core Free Shipping 2015/04/08 23-48-5-108  False   \n",
       "98955           IN  IN Core Free Shipping 2015/04/08 23-48-5-108  False   \n",
       "\n",
       "      fulfilled_by  \n",
       "30660          NaN  \n",
       "30661          NaN  \n",
       "41291          NaN  \n",
       "41292          NaN  \n",
       "52330          NaN  \n",
       "52333          NaN  \n",
       "79844          NaN  \n",
       "79845          NaN  \n",
       "85790          NaN  \n",
       "85791          NaN  \n",
       "86418          NaN  \n",
       "86419          NaN  \n",
       "98954          NaN  \n",
       "98955          NaN  \n",
       "\n",
       "[14 rows x 23 columns]"
      ]
     },
     "execution_count": 66,
     "metadata": {},
     "output_type": "execute_result"
    }
   ],
   "source": [
    "amazon[amazon.duplicated(['Order_ID','ASIN'], keep=False)]"
   ]
  },
  {
   "cell_type": "code",
   "execution_count": 67,
   "metadata": {
    "execution": {
     "iopub.execute_input": "2023-03-08T20:17:01.941377Z",
     "iopub.status.busy": "2023-03-08T20:17:01.940971Z",
     "iopub.status.idle": "2023-03-08T20:17:02.009589Z",
     "shell.execute_reply": "2023-03-08T20:17:02.00865Z"
    },
    "papermill": {
     "duration": 0.087811,
     "end_time": "2023-03-08T20:17:02.011276",
     "exception": false,
     "start_time": "2023-03-08T20:17:01.923465",
     "status": "completed"
    },
    "tags": []
   },
   "outputs": [
    {
     "data": {
      "text/plain": [
       "7"
      ]
     },
     "execution_count": 67,
     "metadata": {},
     "output_type": "execute_result"
    }
   ],
   "source": [
    "len(amazon)-len(amazon.drop_duplicates(['Order_ID','ASIN']))"
   ]
  },
  {
   "cell_type": "code",
   "execution_count": 68,
   "metadata": {
    "execution": {
     "iopub.execute_input": "2023-03-08T20:17:02.04301Z",
     "iopub.status.busy": "2023-03-08T20:17:02.042238Z",
     "iopub.status.idle": "2023-03-08T20:17:02.107798Z",
     "shell.execute_reply": "2023-03-08T20:17:02.106299Z"
    },
    "papermill": {
     "duration": 0.083537,
     "end_time": "2023-03-08T20:17:02.110005",
     "exception": false,
     "start_time": "2023-03-08T20:17:02.026468",
     "status": "completed"
    },
    "tags": []
   },
   "outputs": [],
   "source": [
    "amazon.drop_duplicates(['Order_ID','ASIN'],inplace = True,ignore_index=True)"
   ]
  },
  {
   "cell_type": "markdown",
   "metadata": {
    "papermill": {
     "duration": 0.014875,
     "end_time": "2023-03-08T20:17:02.140294",
     "exception": false,
     "start_time": "2023-03-08T20:17:02.125419",
     "status": "completed"
    },
    "tags": []
   },
   "source": [
    "### Filling NaN Values"
   ]
  },
  {
   "cell_type": "code",
   "execution_count": 69,
   "metadata": {
    "execution": {
     "iopub.execute_input": "2023-03-08T20:17:02.17218Z",
     "iopub.status.busy": "2023-03-08T20:17:02.171846Z",
     "iopub.status.idle": "2023-03-08T20:17:02.182349Z",
     "shell.execute_reply": "2023-03-08T20:17:02.181301Z"
    },
    "papermill": {
     "duration": 0.028745,
     "end_time": "2023-03-08T20:17:02.184141",
     "exception": false,
     "start_time": "2023-03-08T20:17:02.155396",
     "status": "completed"
    },
    "tags": []
   },
   "outputs": [
    {
     "name": "stderr",
     "output_type": "stream",
     "text": [
      "C:\\Users\\Ishan\\AppData\\Local\\Temp\\ipykernel_23712\\1851608940.py:1: FutureWarning: A value is trying to be set on a copy of a DataFrame or Series through chained assignment using an inplace method.\n",
      "The behavior will change in pandas 3.0. This inplace method will never work because the intermediate object on which we are setting values always behaves as a copy.\n",
      "\n",
      "For example, when doing 'df[col].method(value, inplace=True)', try using 'df.method({col: value}, inplace=True)' or df[col] = df[col].method(value) instead, to perform the operation inplace on the original object.\n",
      "\n",
      "\n",
      "  amazon['Courier_Status'].fillna('unknown',inplace=True)\n"
     ]
    }
   ],
   "source": [
    "amazon['Courier_Status'].fillna('unknown',inplace=True)"
   ]
  },
  {
   "cell_type": "code",
   "execution_count": 70,
   "metadata": {
    "execution": {
     "iopub.execute_input": "2023-03-08T20:17:02.215871Z",
     "iopub.status.busy": "2023-03-08T20:17:02.215548Z",
     "iopub.status.idle": "2023-03-08T20:17:02.22985Z",
     "shell.execute_reply": "2023-03-08T20:17:02.228829Z"
    },
    "papermill": {
     "duration": 0.032533,
     "end_time": "2023-03-08T20:17:02.231841",
     "exception": false,
     "start_time": "2023-03-08T20:17:02.199308",
     "status": "completed"
    },
    "tags": []
   },
   "outputs": [
    {
     "name": "stderr",
     "output_type": "stream",
     "text": [
      "C:\\Users\\Ishan\\AppData\\Local\\Temp\\ipykernel_23712\\4146040305.py:1: FutureWarning: A value is trying to be set on a copy of a DataFrame or Series through chained assignment using an inplace method.\n",
      "The behavior will change in pandas 3.0. This inplace method will never work because the intermediate object on which we are setting values always behaves as a copy.\n",
      "\n",
      "For example, when doing 'df[col].method(value, inplace=True)', try using 'df.method({col: value}, inplace=True)' or df[col] = df[col].method(value) instead, to perform the operation inplace on the original object.\n",
      "\n",
      "\n",
      "  amazon['promotion_ids'].fillna('no promotion',inplace=True)\n"
     ]
    }
   ],
   "source": [
    "amazon['promotion_ids'].fillna('no promotion',inplace=True)"
   ]
  },
  {
   "cell_type": "code",
   "execution_count": 71,
   "metadata": {
    "execution": {
     "iopub.execute_input": "2023-03-08T20:17:02.265562Z",
     "iopub.status.busy": "2023-03-08T20:17:02.265222Z",
     "iopub.status.idle": "2023-03-08T20:17:02.280054Z",
     "shell.execute_reply": "2023-03-08T20:17:02.2789Z"
    },
    "papermill": {
     "duration": 0.034448,
     "end_time": "2023-03-08T20:17:02.281861",
     "exception": false,
     "start_time": "2023-03-08T20:17:02.247413",
     "status": "completed"
    },
    "tags": []
   },
   "outputs": [
    {
     "data": {
      "text/plain": [
       "Status\n",
       "Cancelled                       97.06%\n",
       "Shipped                          2.67%\n",
       "Shipped - Delivered to Buyer     0.10%\n",
       "Shipping                         0.10%\n",
       "Shipped - Returned to Seller     0.04%\n",
       "Pending                          0.03%\n",
       "Name: proportion, dtype: object"
      ]
     },
     "execution_count": 71,
     "metadata": {},
     "output_type": "execute_result"
    }
   ],
   "source": [
    "amazon[amazon['Amount'].isnull()]['Status'].value_counts(normalize=True).apply(lambda x: format(x, '.2%'))"
   ]
  },
  {
   "cell_type": "code",
   "execution_count": 72,
   "metadata": {
    "execution": {
     "iopub.execute_input": "2023-03-08T20:17:02.315502Z",
     "iopub.status.busy": "2023-03-08T20:17:02.31516Z",
     "iopub.status.idle": "2023-03-08T20:17:02.320568Z",
     "shell.execute_reply": "2023-03-08T20:17:02.319272Z"
    },
    "papermill": {
     "duration": 0.025432,
     "end_time": "2023-03-08T20:17:02.323066",
     "exception": false,
     "start_time": "2023-03-08T20:17:02.297634",
     "status": "completed"
    },
    "tags": []
   },
   "outputs": [
    {
     "name": "stderr",
     "output_type": "stream",
     "text": [
      "C:\\Users\\Ishan\\AppData\\Local\\Temp\\ipykernel_23712\\3580654317.py:1: FutureWarning: A value is trying to be set on a copy of a DataFrame or Series through chained assignment using an inplace method.\n",
      "The behavior will change in pandas 3.0. This inplace method will never work because the intermediate object on which we are setting values always behaves as a copy.\n",
      "\n",
      "For example, when doing 'df[col].method(value, inplace=True)', try using 'df.method({col: value}, inplace=True)' or df[col] = df[col].method(value) instead, to perform the operation inplace on the original object.\n",
      "\n",
      "\n",
      "  amazon['Amount'].fillna(0,inplace=True)\n"
     ]
    }
   ],
   "source": [
    "amazon['Amount'].fillna(0,inplace=True)"
   ]
  },
  {
   "cell_type": "code",
   "execution_count": 73,
   "metadata": {
    "execution": {
     "iopub.execute_input": "2023-03-08T20:17:02.356148Z",
     "iopub.status.busy": "2023-03-08T20:17:02.355742Z",
     "iopub.status.idle": "2023-03-08T20:17:02.381722Z",
     "shell.execute_reply": "2023-03-08T20:17:02.380306Z"
    },
    "papermill": {
     "duration": 0.045127,
     "end_time": "2023-03-08T20:17:02.384324",
     "exception": false,
     "start_time": "2023-03-08T20:17:02.339197",
     "status": "completed"
    },
    "tags": []
   },
   "outputs": [
    {
     "name": "stderr",
     "output_type": "stream",
     "text": [
      "C:\\Users\\Ishan\\AppData\\Local\\Temp\\ipykernel_23712\\1460687998.py:1: FutureWarning: A value is trying to be set on a copy of a DataFrame or Series through chained assignment using an inplace method.\n",
      "The behavior will change in pandas 3.0. This inplace method will never work because the intermediate object on which we are setting values always behaves as a copy.\n",
      "\n",
      "For example, when doing 'df[col].method(value, inplace=True)', try using 'df.method({col: value}, inplace=True)' or df[col] = df[col].method(value) instead, to perform the operation inplace on the original object.\n",
      "\n",
      "\n",
      "  amazon['ship_city'].fillna('unknown', inplace = True)\n",
      "C:\\Users\\Ishan\\AppData\\Local\\Temp\\ipykernel_23712\\1460687998.py:2: FutureWarning: A value is trying to be set on a copy of a DataFrame or Series through chained assignment using an inplace method.\n",
      "The behavior will change in pandas 3.0. This inplace method will never work because the intermediate object on which we are setting values always behaves as a copy.\n",
      "\n",
      "For example, when doing 'df[col].method(value, inplace=True)', try using 'df.method({col: value}, inplace=True)' or df[col] = df[col].method(value) instead, to perform the operation inplace on the original object.\n",
      "\n",
      "\n",
      "  amazon['ship_state'].fillna('unknown', inplace = True)\n",
      "C:\\Users\\Ishan\\AppData\\Local\\Temp\\ipykernel_23712\\1460687998.py:3: FutureWarning: A value is trying to be set on a copy of a DataFrame or Series through chained assignment using an inplace method.\n",
      "The behavior will change in pandas 3.0. This inplace method will never work because the intermediate object on which we are setting values always behaves as a copy.\n",
      "\n",
      "For example, when doing 'df[col].method(value, inplace=True)', try using 'df.method({col: value}, inplace=True)' or df[col] = df[col].method(value) instead, to perform the operation inplace on the original object.\n",
      "\n",
      "\n",
      "  amazon['ship_postal_code'].fillna('unknown', inplace = True)\n",
      "C:\\Users\\Ishan\\AppData\\Local\\Temp\\ipykernel_23712\\1460687998.py:3: FutureWarning: Setting an item of incompatible dtype is deprecated and will raise an error in a future version of pandas. Value 'unknown' has dtype incompatible with float64, please explicitly cast to a compatible dtype first.\n",
      "  amazon['ship_postal_code'].fillna('unknown', inplace = True)\n"
     ]
    }
   ],
   "source": [
    "amazon['ship_city'].fillna('unknown', inplace = True)\n",
    "amazon['ship_state'].fillna('unknown', inplace = True)\n",
    "amazon['ship_postal_code'].fillna('unknown', inplace = True)"
   ]
  },
  {
   "cell_type": "markdown",
   "metadata": {
    "papermill": {
     "duration": 0.015194,
     "end_time": "2023-03-08T20:17:02.415341",
     "exception": false,
     "start_time": "2023-03-08T20:17:02.400147",
     "status": "completed"
    },
    "tags": []
   },
   "source": [
    "### Renaming Columns"
   ]
  },
  {
   "cell_type": "code",
   "execution_count": 74,
   "metadata": {
    "execution": {
     "iopub.execute_input": "2023-03-08T20:17:02.451506Z",
     "iopub.status.busy": "2023-03-08T20:17:02.451148Z",
     "iopub.status.idle": "2023-03-08T20:17:02.456403Z",
     "shell.execute_reply": "2023-03-08T20:17:02.455401Z"
    },
    "papermill": {
     "duration": 0.025705,
     "end_time": "2023-03-08T20:17:02.457989",
     "exception": false,
     "start_time": "2023-03-08T20:17:02.432284",
     "status": "completed"
    },
    "tags": []
   },
   "outputs": [],
   "source": [
    "mapper = {'Order_ID':'order_ID', 'Date':'date', 'Status':'ship_status','Fulfilment':'fullfilment',\n",
    "          'ship-service-level':'service_level', 'Style':'style', 'SKU':'sku', 'Category':'product_category', \n",
    "          'Size':'size', 'ASIN':'asin', 'Courier_Status':'courier_ship_status', 'Qty':'order_quantity', \n",
    "          'Amount':'order_amount_($)', 'ship_city':'city', 'ship_state':'state', 'ship_postal_code':'zip', \n",
    "          'promotion_ids':'promotion','B2B':'customer_type'}\n",
    "\n"
   ]
  },
  {
   "cell_type": "code",
   "execution_count": 75,
   "metadata": {
    "execution": {
     "iopub.execute_input": "2023-03-08T20:17:02.490081Z",
     "iopub.status.busy": "2023-03-08T20:17:02.489681Z",
     "iopub.status.idle": "2023-03-08T20:17:02.494398Z",
     "shell.execute_reply": "2023-03-08T20:17:02.493367Z"
    },
    "papermill": {
     "duration": 0.022809,
     "end_time": "2023-03-08T20:17:02.496113",
     "exception": false,
     "start_time": "2023-03-08T20:17:02.473304",
     "status": "completed"
    },
    "tags": []
   },
   "outputs": [],
   "source": [
    "amazon.rename(columns=mapper, inplace =True)"
   ]
  },
  {
   "cell_type": "markdown",
   "metadata": {
    "papermill": {
     "duration": 0.014974,
     "end_time": "2023-03-08T20:17:02.527135",
     "exception": false,
     "start_time": "2023-03-08T20:17:02.512161",
     "status": "completed"
    },
    "tags": []
   },
   "source": [
    "### Convert Amount column values to $"
   ]
  },
  {
   "cell_type": "code",
   "execution_count": 76,
   "metadata": {
    "execution": {
     "iopub.execute_input": "2023-03-08T20:17:02.558492Z",
     "iopub.status.busy": "2023-03-08T20:17:02.558082Z",
     "iopub.status.idle": "2023-03-08T20:17:02.595758Z",
     "shell.execute_reply": "2023-03-08T20:17:02.594365Z"
    },
    "papermill": {
     "duration": 0.05612,
     "end_time": "2023-03-08T20:17:02.598171",
     "exception": false,
     "start_time": "2023-03-08T20:17:02.542051",
     "status": "completed"
    },
    "tags": []
   },
   "outputs": [],
   "source": [
    "# Convert INR to USD using an exchange rate of 1 INR = 0.014 USD\n",
    "exchange_rate = 0.0120988\n",
    "amazon['order_amount_($)'] = amazon['order_amount_($)'].apply(lambda x: x * exchange_rate)"
   ]
  },
  {
   "cell_type": "markdown",
   "metadata": {
    "papermill": {
     "duration": 0.014979,
     "end_time": "2023-03-08T20:17:02.628596",
     "exception": false,
     "start_time": "2023-03-08T20:17:02.613617",
     "status": "completed"
    },
    "tags": []
   },
   "source": [
    "### Convert B2B column values"
   ]
  },
  {
   "cell_type": "code",
   "execution_count": 77,
   "metadata": {
    "execution": {
     "iopub.execute_input": "2023-03-08T20:17:02.66036Z",
     "iopub.status.busy": "2023-03-08T20:17:02.659955Z",
     "iopub.status.idle": "2023-03-08T20:17:02.668839Z",
     "shell.execute_reply": "2023-03-08T20:17:02.667822Z"
    },
    "papermill": {
     "duration": 0.027707,
     "end_time": "2023-03-08T20:17:02.67127",
     "exception": false,
     "start_time": "2023-03-08T20:17:02.643563",
     "status": "completed"
    },
    "tags": []
   },
   "outputs": [
    {
     "name": "stderr",
     "output_type": "stream",
     "text": [
      "C:\\Users\\Ishan\\AppData\\Local\\Temp\\ipykernel_23712\\1164148232.py:1: FutureWarning: A value is trying to be set on a copy of a DataFrame or Series through chained assignment using an inplace method.\n",
      "The behavior will change in pandas 3.0. This inplace method will never work because the intermediate object on which we are setting values always behaves as a copy.\n",
      "\n",
      "For example, when doing 'df[col].method(value, inplace=True)', try using 'df.method({col: value}, inplace=True)' or df[col] = df[col].method(value) instead, to perform the operation inplace on the original object.\n",
      "\n",
      "\n",
      "  amazon['customer_type'].replace(to_replace=[True,False],value=['business','customer'], inplace=True)\n"
     ]
    }
   ],
   "source": [
    "amazon['customer_type'].replace(to_replace=[True,False],value=['business','customer'], inplace=True)"
   ]
  },
  {
   "cell_type": "markdown",
   "metadata": {
    "papermill": {
     "duration": 0.015791,
     "end_time": "2023-03-08T20:17:02.703314",
     "exception": false,
     "start_time": "2023-03-08T20:17:02.687523",
     "status": "completed"
    },
    "tags": []
   },
   "source": [
    "### Creating Datetime and adding Month column"
   ]
  },
  {
   "cell_type": "code",
   "execution_count": 78,
   "metadata": {
    "execution": {
     "iopub.execute_input": "2023-03-08T20:17:02.73774Z",
     "iopub.status.busy": "2023-03-08T20:17:02.736637Z",
     "iopub.status.idle": "2023-03-08T20:17:02.779593Z",
     "shell.execute_reply": "2023-03-08T20:17:02.778514Z"
    },
    "papermill": {
     "duration": 0.062618,
     "end_time": "2023-03-08T20:17:02.782117",
     "exception": false,
     "start_time": "2023-03-08T20:17:02.719499",
     "status": "completed"
    },
    "tags": []
   },
   "outputs": [
    {
     "name": "stderr",
     "output_type": "stream",
     "text": [
      "C:\\Users\\Ishan\\AppData\\Local\\Temp\\ipykernel_23712\\1895549944.py:1: UserWarning: Could not infer format, so each element will be parsed individually, falling back to `dateutil`. To ensure parsing is consistent and as-expected, please specify a format.\n",
      "  amazon['date'] = pd.to_datetime(amazon['date'])\n"
     ]
    }
   ],
   "source": [
    "amazon['date'] = pd.to_datetime(amazon['date'])"
   ]
  },
  {
   "cell_type": "code",
   "execution_count": 79,
   "metadata": {
    "execution": {
     "iopub.execute_input": "2023-03-08T20:17:02.815377Z",
     "iopub.status.busy": "2023-03-08T20:17:02.815001Z",
     "iopub.status.idle": "2023-03-08T20:17:02.827588Z",
     "shell.execute_reply": "2023-03-08T20:17:02.826105Z"
    },
    "papermill": {
     "duration": 0.032641,
     "end_time": "2023-03-08T20:17:02.830437",
     "exception": false,
     "start_time": "2023-03-08T20:17:02.797796",
     "status": "completed"
    },
    "tags": []
   },
   "outputs": [
    {
     "data": {
      "text/plain": [
       "1"
      ]
     },
     "execution_count": 79,
     "metadata": {},
     "output_type": "execute_result"
    }
   ],
   "source": [
    "# Filter to only include dates in March\n",
    "march_dates = amazon['date'][amazon['date'].dt.month == 3]\n",
    "\n",
    "# Get the number of unique days in March\n",
    "march_dates.dt.day.nunique()\n"
   ]
  },
  {
   "cell_type": "code",
   "execution_count": 80,
   "metadata": {
    "execution": {
     "iopub.execute_input": "2023-03-08T20:17:02.864026Z",
     "iopub.status.busy": "2023-03-08T20:17:02.863665Z",
     "iopub.status.idle": "2023-03-08T20:17:02.927649Z",
     "shell.execute_reply": "2023-03-08T20:17:02.926661Z"
    },
    "papermill": {
     "duration": 0.08309,
     "end_time": "2023-03-08T20:17:02.929843",
     "exception": false,
     "start_time": "2023-03-08T20:17:02.846753",
     "status": "completed"
    },
    "tags": []
   },
   "outputs": [],
   "source": [
    "# dropping March dates from the dataset\n",
    "amazon = amazon[(amazon['date'].dt.month != 3)]"
   ]
  },
  {
   "cell_type": "code",
   "execution_count": 81,
   "metadata": {
    "execution": {
     "iopub.execute_input": "2023-03-08T20:17:02.962703Z",
     "iopub.status.busy": "2023-03-08T20:17:02.962375Z",
     "iopub.status.idle": "2023-03-08T20:17:02.974652Z",
     "shell.execute_reply": "2023-03-08T20:17:02.973469Z"
    },
    "papermill": {
     "duration": 0.031018,
     "end_time": "2023-03-08T20:17:02.976569",
     "exception": false,
     "start_time": "2023-03-08T20:17:02.945551",
     "status": "completed"
    },
    "tags": []
   },
   "outputs": [
    {
     "data": {
      "text/plain": [
       "array([4, 5, 6], dtype=int32)"
      ]
     },
     "execution_count": 81,
     "metadata": {},
     "output_type": "execute_result"
    }
   ],
   "source": [
    "amazon['month'] = amazon['date'].dt.month\n",
    "amazon[\"month\"].unique()"
   ]
  },
  {
   "cell_type": "code",
   "execution_count": 82,
   "metadata": {
    "execution": {
     "iopub.execute_input": "2023-03-08T20:17:03.009944Z",
     "iopub.status.busy": "2023-03-08T20:17:03.009558Z",
     "iopub.status.idle": "2023-03-08T20:17:03.020771Z",
     "shell.execute_reply": "2023-03-08T20:17:03.020087Z"
    },
    "papermill": {
     "duration": 0.030546,
     "end_time": "2023-03-08T20:17:03.022952",
     "exception": false,
     "start_time": "2023-03-08T20:17:02.992406",
     "status": "completed"
    },
    "tags": []
   },
   "outputs": [],
   "source": [
    "month_map = { 4: 'april',5: 'may',6: 'june'}\n",
    "amazon['month'] = amazon['date'].dt.month.map(month_map)"
   ]
  },
  {
   "cell_type": "code",
   "execution_count": 83,
   "metadata": {
    "execution": {
     "iopub.execute_input": "2023-03-08T20:17:03.057721Z",
     "iopub.status.busy": "2023-03-08T20:17:03.057357Z",
     "iopub.status.idle": "2023-03-08T20:17:03.068767Z",
     "shell.execute_reply": "2023-03-08T20:17:03.068089Z"
    },
    "papermill": {
     "duration": 0.031247,
     "end_time": "2023-03-08T20:17:03.070489",
     "exception": false,
     "start_time": "2023-03-08T20:17:03.039242",
     "status": "completed"
    },
    "tags": []
   },
   "outputs": [],
   "source": [
    "# Define the desired order of months\n",
    "month_order = ['april', 'may', 'june']\n",
    "\n",
    "# Convert the month column to a categorical data type with the desired order\n",
    "amazon['month'] = pd.Categorical(amazon['month'], categories=month_order, ordered=True)"
   ]
  },
  {
   "cell_type": "code",
   "execution_count": 84,
   "metadata": {
    "execution": {
     "iopub.execute_input": "2023-03-08T20:17:03.10475Z",
     "iopub.status.busy": "2023-03-08T20:17:03.103952Z",
     "iopub.status.idle": "2023-03-08T20:17:03.111018Z",
     "shell.execute_reply": "2023-03-08T20:17:03.110414Z"
    },
    "papermill": {
     "duration": 0.026204,
     "end_time": "2023-03-08T20:17:03.113006",
     "exception": false,
     "start_time": "2023-03-08T20:17:03.086802",
     "status": "completed"
    },
    "tags": []
   },
   "outputs": [
    {
     "name": "stdout",
     "output_type": "stream",
     "text": [
      "This dataset contains the months ['april', 'may', 'june']\n",
      "Categories (3, object): ['april' < 'may' < 'june'] for 2022\n",
      "The earliest date is 2022-04-01 00:00:00\n",
      "The latest date is 2022-06-29 00:00:00\n"
     ]
    }
   ],
   "source": [
    "print(f'This dataset contains the months {amazon[\"month\"].unique()} for 2022')\n",
    "print(f'The earliest date is {amazon[\"date\"].min()}')\n",
    "print(f'The latest date is {amazon[\"date\"].max()}')"
   ]
  },
  {
   "cell_type": "markdown",
   "metadata": {
    "papermill": {
     "duration": 0.015674,
     "end_time": "2023-03-08T20:17:03.144859",
     "exception": false,
     "start_time": "2023-03-08T20:17:03.129185",
     "status": "completed"
    },
    "tags": []
   },
   "source": [
    "### Column Value Ordering "
   ]
  },
  {
   "cell_type": "code",
   "execution_count": 85,
   "metadata": {
    "execution": {
     "iopub.execute_input": "2023-03-08T20:17:03.178697Z",
     "iopub.status.busy": "2023-03-08T20:17:03.178118Z",
     "iopub.status.idle": "2023-03-08T20:17:03.203502Z",
     "shell.execute_reply": "2023-03-08T20:17:03.202769Z"
    },
    "papermill": {
     "duration": 0.044923,
     "end_time": "2023-03-08T20:17:03.205739",
     "exception": false,
     "start_time": "2023-03-08T20:17:03.160816",
     "status": "completed"
    },
    "tags": []
   },
   "outputs": [],
   "source": [
    "# Define the desired order for the 'size' column\n",
    "size_order = ['Free','XS', 'S', 'M', 'L', 'XL', 'XXL', '3XL', '4XL', '5XL', '6XL']\n",
    "\n",
    "# Create an ordered categorical variable for the 'size' column\n",
    "amazon['size'] = pd.Categorical(amazon['size'], categories=size_order, ordered=True)"
   ]
  },
  {
   "cell_type": "markdown",
   "metadata": {
    "papermill": {
     "duration": 0.015779,
     "end_time": "2023-03-08T20:17:03.237519",
     "exception": false,
     "start_time": "2023-03-08T20:17:03.22174",
     "status": "completed"
    },
    "tags": []
   },
   "source": [
    "**Data Visualizations**"
   ]
  },
  {
   "cell_type": "markdown",
   "metadata": {
    "jp-MarkdownHeadingCollapsed": true,
    "papermill": {
     "duration": 0.016049,
     "end_time": "2023-03-08T20:17:03.269428",
     "exception": false,
     "start_time": "2023-03-08T20:17:03.253379",
     "status": "completed"
    },
    "tags": []
   },
   "source": [
    "### Checking The Clean Data"
   ]
  },
  {
   "cell_type": "code",
   "execution_count": 86,
   "metadata": {
    "execution": {
     "iopub.execute_input": "2023-03-08T20:17:03.603314Z",
     "iopub.status.busy": "2023-03-08T20:17:03.602923Z",
     "iopub.status.idle": "2023-03-08T20:17:03.67652Z",
     "shell.execute_reply": "2023-03-08T20:17:03.67547Z"
    },
    "papermill": {
     "duration": 0.093382,
     "end_time": "2023-03-08T20:17:03.678493",
     "exception": false,
     "start_time": "2023-03-08T20:17:03.585111",
     "status": "completed"
    },
    "tags": []
   },
   "outputs": [
    {
     "data": {
      "text/plain": [
       "index                      0\n",
       "order_ID                   0\n",
       "date                       0\n",
       "ship_status                0\n",
       "fullfilment                0\n",
       "Sales_Channel              0\n",
       "ship_service               0\n",
       "style                      0\n",
       "sku                        0\n",
       "product_category           0\n",
       "size                       0\n",
       "asin                       0\n",
       "courier_ship_status        0\n",
       "order_quantity             0\n",
       "currency                7783\n",
       "order_amount_($)           0\n",
       "city                       0\n",
       "state                      0\n",
       "zip                        0\n",
       "ship_country              33\n",
       "promotion                  0\n",
       "customer_type              0\n",
       "fulfilled_by           89543\n",
       "month                      0\n",
       "dtype: int64"
      ]
     },
     "execution_count": 86,
     "metadata": {},
     "output_type": "execute_result"
    }
   ],
   "source": [
    "amazon.isnull().sum()"
   ]
  },
  {
   "cell_type": "code",
   "execution_count": 87,
   "metadata": {
    "execution": {
     "iopub.execute_input": "2023-03-08T20:17:03.713649Z",
     "iopub.status.busy": "2023-03-08T20:17:03.713076Z",
     "iopub.status.idle": "2023-03-08T20:17:03.919269Z",
     "shell.execute_reply": "2023-03-08T20:17:03.918413Z"
    },
    "papermill": {
     "duration": 0.226429,
     "end_time": "2023-03-08T20:17:03.921443",
     "exception": false,
     "start_time": "2023-03-08T20:17:03.695014",
     "status": "completed"
    },
    "tags": []
   },
   "outputs": [
    {
     "data": {
      "text/html": [
       "<div>\n",
       "<style scoped>\n",
       "    .dataframe tbody tr th:only-of-type {\n",
       "        vertical-align: middle;\n",
       "    }\n",
       "\n",
       "    .dataframe tbody tr th {\n",
       "        vertical-align: top;\n",
       "    }\n",
       "\n",
       "    .dataframe thead th {\n",
       "        text-align: right;\n",
       "    }\n",
       "</style>\n",
       "<table border=\"1\" class=\"dataframe\">\n",
       "  <thead>\n",
       "    <tr style=\"text-align: right;\">\n",
       "      <th></th>\n",
       "      <th>Count of unique values</th>\n",
       "    </tr>\n",
       "  </thead>\n",
       "  <tbody>\n",
       "    <tr>\n",
       "      <th>index</th>\n",
       "      <td>128797</td>\n",
       "    </tr>\n",
       "    <tr>\n",
       "      <th>order_ID</th>\n",
       "      <td>120221</td>\n",
       "    </tr>\n",
       "    <tr>\n",
       "      <th>date</th>\n",
       "      <td>90</td>\n",
       "    </tr>\n",
       "    <tr>\n",
       "      <th>ship_status</th>\n",
       "      <td>13</td>\n",
       "    </tr>\n",
       "    <tr>\n",
       "      <th>fullfilment</th>\n",
       "      <td>2</td>\n",
       "    </tr>\n",
       "    <tr>\n",
       "      <th>Sales_Channel</th>\n",
       "      <td>2</td>\n",
       "    </tr>\n",
       "    <tr>\n",
       "      <th>ship_service</th>\n",
       "      <td>2</td>\n",
       "    </tr>\n",
       "    <tr>\n",
       "      <th>style</th>\n",
       "      <td>1377</td>\n",
       "    </tr>\n",
       "    <tr>\n",
       "      <th>sku</th>\n",
       "      <td>7194</td>\n",
       "    </tr>\n",
       "    <tr>\n",
       "      <th>product_category</th>\n",
       "      <td>9</td>\n",
       "    </tr>\n",
       "    <tr>\n",
       "      <th>size</th>\n",
       "      <td>11</td>\n",
       "    </tr>\n",
       "    <tr>\n",
       "      <th>asin</th>\n",
       "      <td>7189</td>\n",
       "    </tr>\n",
       "    <tr>\n",
       "      <th>courier_ship_status</th>\n",
       "      <td>4</td>\n",
       "    </tr>\n",
       "    <tr>\n",
       "      <th>order_quantity</th>\n",
       "      <td>10</td>\n",
       "    </tr>\n",
       "    <tr>\n",
       "      <th>currency</th>\n",
       "      <td>1</td>\n",
       "    </tr>\n",
       "    <tr>\n",
       "      <th>order_amount_($)</th>\n",
       "      <td>1409</td>\n",
       "    </tr>\n",
       "    <tr>\n",
       "      <th>city</th>\n",
       "      <td>8953</td>\n",
       "    </tr>\n",
       "    <tr>\n",
       "      <th>state</th>\n",
       "      <td>70</td>\n",
       "    </tr>\n",
       "    <tr>\n",
       "      <th>zip</th>\n",
       "      <td>9460</td>\n",
       "    </tr>\n",
       "    <tr>\n",
       "      <th>ship_country</th>\n",
       "      <td>1</td>\n",
       "    </tr>\n",
       "    <tr>\n",
       "      <th>promotion</th>\n",
       "      <td>5784</td>\n",
       "    </tr>\n",
       "    <tr>\n",
       "      <th>customer_type</th>\n",
       "      <td>2</td>\n",
       "    </tr>\n",
       "    <tr>\n",
       "      <th>fulfilled_by</th>\n",
       "      <td>1</td>\n",
       "    </tr>\n",
       "    <tr>\n",
       "      <th>month</th>\n",
       "      <td>3</td>\n",
       "    </tr>\n",
       "  </tbody>\n",
       "</table>\n",
       "</div>"
      ],
      "text/plain": [
       "                     Count of unique values\n",
       "index                                128797\n",
       "order_ID                             120221\n",
       "date                                     90\n",
       "ship_status                              13\n",
       "fullfilment                               2\n",
       "Sales_Channel                             2\n",
       "ship_service                              2\n",
       "style                                  1377\n",
       "sku                                    7194\n",
       "product_category                          9\n",
       "size                                     11\n",
       "asin                                   7189\n",
       "courier_ship_status                       4\n",
       "order_quantity                           10\n",
       "currency                                  1\n",
       "order_amount_($)                       1409\n",
       "city                                   8953\n",
       "state                                    70\n",
       "zip                                    9460\n",
       "ship_country                              1\n",
       "promotion                              5784\n",
       "customer_type                             2\n",
       "fulfilled_by                              1\n",
       "month                                     3"
      ]
     },
     "execution_count": 87,
     "metadata": {},
     "output_type": "execute_result"
    }
   ],
   "source": [
    "amazon.nunique().to_frame(name='Count of unique values')"
   ]
  },
  {
   "cell_type": "code",
   "execution_count": 88,
   "metadata": {
    "execution": {
     "iopub.execute_input": "2023-03-08T20:17:03.955541Z",
     "iopub.status.busy": "2023-03-08T20:17:03.955026Z",
     "iopub.status.idle": "2023-03-08T20:17:04.16591Z",
     "shell.execute_reply": "2023-03-08T20:17:04.16508Z"
    },
    "papermill": {
     "duration": 0.2307,
     "end_time": "2023-03-08T20:17:04.16843",
     "exception": false,
     "start_time": "2023-03-08T20:17:03.93773",
     "status": "completed"
    },
    "tags": []
   },
   "outputs": [
    {
     "data": {
      "text/html": [
       "<div>\n",
       "<style scoped>\n",
       "    .dataframe tbody tr th:only-of-type {\n",
       "        vertical-align: middle;\n",
       "    }\n",
       "\n",
       "    .dataframe tbody tr th {\n",
       "        vertical-align: top;\n",
       "    }\n",
       "\n",
       "    .dataframe thead th {\n",
       "        text-align: right;\n",
       "    }\n",
       "</style>\n",
       "<table border=\"1\" class=\"dataframe\">\n",
       "  <thead>\n",
       "    <tr style=\"text-align: right;\">\n",
       "      <th></th>\n",
       "      <th>Unique Values</th>\n",
       "    </tr>\n",
       "  </thead>\n",
       "  <tbody>\n",
       "    <tr>\n",
       "      <th>index</th>\n",
       "      <td>[0, 1, 2, 3, 4, 5, 6, 7, 8, 9, 10, 11, 12, 13,...</td>\n",
       "    </tr>\n",
       "    <tr>\n",
       "      <th>order_ID</th>\n",
       "      <td>[405-8078784-5731545, 171-9198151-1101146, 404...</td>\n",
       "    </tr>\n",
       "    <tr>\n",
       "      <th>date</th>\n",
       "      <td>[2022-04-30T00:00:00.000000000, 2022-04-29T00:...</td>\n",
       "    </tr>\n",
       "    <tr>\n",
       "      <th>ship_status</th>\n",
       "      <td>[Cancelled, Shipped - Delivered to Buyer, Ship...</td>\n",
       "    </tr>\n",
       "    <tr>\n",
       "      <th>fullfilment</th>\n",
       "      <td>[Merchant, Amazon]</td>\n",
       "    </tr>\n",
       "    <tr>\n",
       "      <th>Sales_Channel</th>\n",
       "      <td>[Amazon.in, Non-Amazon]</td>\n",
       "    </tr>\n",
       "    <tr>\n",
       "      <th>ship_service</th>\n",
       "      <td>[Standard, Expedited]</td>\n",
       "    </tr>\n",
       "    <tr>\n",
       "      <th>style</th>\n",
       "      <td>[SET389, JNE3781, JNE3371, J0341, JNE3671, SET...</td>\n",
       "    </tr>\n",
       "    <tr>\n",
       "      <th>sku</th>\n",
       "      <td>[SET389-KR-NP-S, JNE3781-KR-XXXL, JNE3371-KR-X...</td>\n",
       "    </tr>\n",
       "    <tr>\n",
       "      <th>product_category</th>\n",
       "      <td>[Set, kurta, Western Dress, Top, Ethnic Dress,...</td>\n",
       "    </tr>\n",
       "    <tr>\n",
       "      <th>size</th>\n",
       "      <td>['S', '3XL', 'XL', 'L', 'XXL', ..., '6XL', 'M'...</td>\n",
       "    </tr>\n",
       "    <tr>\n",
       "      <th>asin</th>\n",
       "      <td>[B09KXVBD7Z, B09K3WFS32, B07WV4JV4D, B099NRCT7...</td>\n",
       "    </tr>\n",
       "    <tr>\n",
       "      <th>courier_ship_status</th>\n",
       "      <td>[unknown, Shipped, Cancelled, Unshipped]</td>\n",
       "    </tr>\n",
       "    <tr>\n",
       "      <th>order_quantity</th>\n",
       "      <td>[0, 1, 2, 15, 3, 9, 13, 5, 4, 8]</td>\n",
       "    </tr>\n",
       "    <tr>\n",
       "      <th>currency</th>\n",
       "      <td>[INR, nan]</td>\n",
       "    </tr>\n",
       "    <tr>\n",
       "      <th>order_amount_($)</th>\n",
       "      <td>[7.835424856, 4.9121128, 3.9805052, 9.11438900...</td>\n",
       "    </tr>\n",
       "    <tr>\n",
       "      <th>city</th>\n",
       "      <td>[MUMBAI, BENGALURU, NAVI MUMBAI, PUDUCHERRY, C...</td>\n",
       "    </tr>\n",
       "    <tr>\n",
       "      <th>state</th>\n",
       "      <td>[MAHARASHTRA, KARNATAKA, PUDUCHERRY, TAMIL NAD...</td>\n",
       "    </tr>\n",
       "    <tr>\n",
       "      <th>zip</th>\n",
       "      <td>[400081.0, 560085.0, 410210.0, 605008.0, 60007...</td>\n",
       "    </tr>\n",
       "    <tr>\n",
       "      <th>ship_country</th>\n",
       "      <td>[IN, nan]</td>\n",
       "    </tr>\n",
       "    <tr>\n",
       "      <th>promotion</th>\n",
       "      <td>[no promotion, Amazon PLCC Free-Financing Univ...</td>\n",
       "    </tr>\n",
       "    <tr>\n",
       "      <th>customer_type</th>\n",
       "      <td>[customer, business]</td>\n",
       "    </tr>\n",
       "    <tr>\n",
       "      <th>fulfilled_by</th>\n",
       "      <td>[Easy Ship, nan]</td>\n",
       "    </tr>\n",
       "    <tr>\n",
       "      <th>month</th>\n",
       "      <td>['april', 'may', 'june']\n",
       "Categories (3, object...</td>\n",
       "    </tr>\n",
       "  </tbody>\n",
       "</table>\n",
       "</div>"
      ],
      "text/plain": [
       "                                                         Unique Values\n",
       "index                [0, 1, 2, 3, 4, 5, 6, 7, 8, 9, 10, 11, 12, 13,...\n",
       "order_ID             [405-8078784-5731545, 171-9198151-1101146, 404...\n",
       "date                 [2022-04-30T00:00:00.000000000, 2022-04-29T00:...\n",
       "ship_status          [Cancelled, Shipped - Delivered to Buyer, Ship...\n",
       "fullfilment                                         [Merchant, Amazon]\n",
       "Sales_Channel                                  [Amazon.in, Non-Amazon]\n",
       "ship_service                                     [Standard, Expedited]\n",
       "style                [SET389, JNE3781, JNE3371, J0341, JNE3671, SET...\n",
       "sku                  [SET389-KR-NP-S, JNE3781-KR-XXXL, JNE3371-KR-X...\n",
       "product_category     [Set, kurta, Western Dress, Top, Ethnic Dress,...\n",
       "size                 ['S', '3XL', 'XL', 'L', 'XXL', ..., '6XL', 'M'...\n",
       "asin                 [B09KXVBD7Z, B09K3WFS32, B07WV4JV4D, B099NRCT7...\n",
       "courier_ship_status           [unknown, Shipped, Cancelled, Unshipped]\n",
       "order_quantity                        [0, 1, 2, 15, 3, 9, 13, 5, 4, 8]\n",
       "currency                                                    [INR, nan]\n",
       "order_amount_($)     [7.835424856, 4.9121128, 3.9805052, 9.11438900...\n",
       "city                 [MUMBAI, BENGALURU, NAVI MUMBAI, PUDUCHERRY, C...\n",
       "state                [MAHARASHTRA, KARNATAKA, PUDUCHERRY, TAMIL NAD...\n",
       "zip                  [400081.0, 560085.0, 410210.0, 605008.0, 60007...\n",
       "ship_country                                                 [IN, nan]\n",
       "promotion            [no promotion, Amazon PLCC Free-Financing Univ...\n",
       "customer_type                                     [customer, business]\n",
       "fulfilled_by                                          [Easy Ship, nan]\n",
       "month                ['april', 'may', 'june']\n",
       "Categories (3, object..."
      ]
     },
     "execution_count": 88,
     "metadata": {},
     "output_type": "execute_result"
    }
   ],
   "source": [
    "amazon.apply(pd.unique).to_frame(name='Unique Values')"
   ]
  },
  {
   "cell_type": "markdown",
   "metadata": {
    "papermill": {
     "duration": 0.016929,
     "end_time": "2023-03-08T20:17:04.20277",
     "exception": false,
     "start_time": "2023-03-08T20:17:04.185841",
     "status": "completed"
    },
    "tags": []
   },
   "source": [
    "### Preliminary Insights"
   ]
  },
  {
   "cell_type": "code",
   "execution_count": 89,
   "metadata": {
    "execution": {
     "iopub.execute_input": "2023-03-08T20:17:04.239126Z",
     "iopub.status.busy": "2023-03-08T20:17:04.238767Z",
     "iopub.status.idle": "2023-03-08T20:17:04.433331Z",
     "shell.execute_reply": "2023-03-08T20:17:04.432655Z"
    },
    "papermill": {
     "duration": 0.21599,
     "end_time": "2023-03-08T20:17:04.436014",
     "exception": false,
     "start_time": "2023-03-08T20:17:04.220024",
     "status": "completed"
    },
    "tags": []
   },
   "outputs": [
    {
     "name": "stdout",
     "output_type": "stream",
     "text": [
      "Total revenue for April 2022: $348,913.76\n",
      "Total revenue for May 2022: $317,285.20, which is a -9.06% decrease from April.\n",
      "Total revenue for June 2022: $283,410.11, which is a -10.68% decrease from May.\n",
      "Total revenue for Q2 2022 decreased by -18.77%\n",
      "\n",
      "\n",
      "Total revenue by product category:\n",
      "product_category\n",
      "Set              $473,645.49\n",
      "kurta            $257,272.15\n",
      "Western Dress    $135,608.42\n",
      "Top               $64,647.29\n",
      "Ethnic Dress       $9,559.49\n",
      "Blouse             $5,542.80\n",
      "Bottom             $1,822.90\n",
      "Saree              $1,499.45\n",
      "Dupatta               $11.07\n",
      "Name: order_amount_($), dtype: object\n",
      "\n",
      "\n",
      "Percentage of revenue by product category:\n",
      "product_category\n",
      "Set              49.88%\n",
      "kurta            27.09%\n",
      "Western Dress    14.28%\n",
      "Top               6.81%\n",
      "Ethnic Dress      1.01%\n",
      "Blouse            0.58%\n",
      "Bottom            0.19%\n",
      "Saree             0.16%\n",
      "Dupatta           0.00%\n",
      "Name: order_amount_($), dtype: object\n",
      "\n",
      "\n",
      "Top 5 product categories by average price:\n",
      "product_category\n",
      "Set              9.434042\n",
      "Saree            9.142986\n",
      "Western Dress    8.754014\n",
      "Ethnic Dress     8.255171\n",
      "Top              6.091331\n",
      "Name: order_amount_($), dtype: float64\n",
      "\n",
      "\n",
      "Total cancelled orders: 18316, which is 14.22% of all orders.\n",
      "Total returned orders: 2109, which is 1.64% of all orders.\n",
      "This represents 17.53% of all orders.\n",
      "\n",
      "\n",
      "            average_order_amount  average_order_quantity\n",
      "date                                                    \n",
      "2022-04-30              7.111256                0.900968\n",
      "2022-05-31              7.547940                0.904177\n",
      "2022-06-30              7.518307                0.909248\n",
      "\n",
      "\n",
      "Most popular product category in each state:\n",
      "                  state product_category  order_quantity\n",
      "1    ANDAMAN & NICOBAR               Set             108\n",
      "12       ANDHRA PRADESH            kurta            2298\n",
      "13                  APO              Set               0\n",
      "14                   AR              Top               1\n",
      "17    ARUNACHAL PRADESH              Set              55\n",
      "..                  ...              ...             ...\n",
      "314              orissa              Set               1\n",
      "315              punjab              Set               8\n",
      "320           rajasthan              Top               2\n",
      "322            rajsthan            kurta               1\n",
      "326             unknown            kurta              14\n",
      "\n",
      "[70 rows x 3 columns]\n",
      "\n",
      "\n",
      "Average order amount by customer type:\n",
      "customer_type\n",
      "business    $8.21\n",
      "customer    $7.37\n",
      "Name: order_amount_($), dtype: object\n"
     ]
    },
    {
     "name": "stderr",
     "output_type": "stream",
     "text": [
      "C:\\Users\\Ishan\\AppData\\Local\\Temp\\ipykernel_23712\\2930968858.py:1: FutureWarning: The default of observed=False is deprecated and will be changed to True in a future version of pandas. Pass observed=False to retain current behavior or observed=True to adopt the future default and silence this warning.\n",
      "  revenue_by_month = amazon.groupby('month')['order_amount_($)'].sum()\n",
      "C:\\Users\\Ishan\\AppData\\Local\\Temp\\ipykernel_23712\\2930968858.py:43: FutureWarning: 'M' is deprecated and will be removed in a future version, please use 'ME' instead.\n",
      "  monthly_order_data = amazon.groupby(pd.Grouper(key='date', freq='M')).agg({'order_amount_($)': 'mean', 'order_quantity': 'mean'})\n"
     ]
    }
   ],
   "source": [
    "revenue_by_month = amazon.groupby('month')['order_amount_($)'].sum()\n",
    "percent_decrease_apr_to_may = (revenue_by_month['april'] - revenue_by_month['may']) / revenue_by_month['april'] * 100\n",
    "percent_decrease_may_to_jun = (revenue_by_month['may'] - revenue_by_month['june']) / revenue_by_month['may'] * 100\n",
    "total_decrease = (revenue_by_month['april'] - revenue_by_month['june']) / revenue_by_month['april'] * 100\n",
    "print(f\"Total revenue for April 2022: ${revenue_by_month['april']:,.2f}\")\n",
    "print(f\"Total revenue for May 2022: ${revenue_by_month['may']:,.2f}, which is a -{percent_decrease_apr_to_may:.2f}% decrease from April.\")\n",
    "print(f\"Total revenue for June 2022: ${revenue_by_month['june']:,.2f}, which is a -{percent_decrease_may_to_jun:.2f}% decrease from May.\")\n",
    "print(f\"Total revenue for Q2 2022 decreased by -{total_decrease:.2f}%\")\n",
    "print(\"\\n\")\n",
    "\n",
    "revenue_by_category = amazon.groupby('product_category')['order_amount_($)'].sum().sort_values(ascending=False)\n",
    "print(\"Total revenue by product category:\")\n",
    "print(revenue_by_category.apply(lambda x: \"${:,.2f}\".format(x)))\n",
    "print(\"\\n\")\n",
    "\n",
    "revenue_by_category = amazon.groupby('product_category')['order_amount_($)'].sum()\n",
    "percent_revenue_by_category = ((revenue_by_category / revenue_by_category.sum()) * 100).sort_values(ascending=False)\n",
    "percent_revenue_by_category = percent_revenue_by_category.apply(lambda x: \"{:.2f}%\".format(x))\n",
    "print(\"Percentage of revenue by product category:\")\n",
    "print(percent_revenue_by_category)\n",
    "print(\"\\n\")\n",
    "\n",
    "avg_price_by_category = amazon.groupby('product_category')['order_amount_($)'].mean()\n",
    "avg_price_by_category = avg_price_by_category.sort_values(ascending=False)\n",
    "print(\"Top 5 product categories by average price:\")\n",
    "print(avg_price_by_category.head(5))\n",
    "print(\"\\n\")\n",
    "\n",
    "cancelled_orders = amazon[amazon['ship_status'].isin(['Cancelled', 'Shipped - Lost in Transit'])]\n",
    "returned_orders = amazon[amazon['ship_status'].isin(['Shipped - Returned to Seller', 'Shipped - Returning to Seller', 'Shipped - Rejected by Buyer', 'Shipped - Damaged'])]\n",
    "total_cancelled = len(cancelled_orders)\n",
    "total_returned = len(returned_orders)\n",
    "total_cancelled_returned = total_cancelled + total_returned\n",
    "percent_cancelled = total_cancelled / len(amazon) * 100\n",
    "percent_returned = total_returned / len(amazon) * 100\n",
    "percent_cancelled_returned = total_cancelled_returned / amazon['order_quantity'].sum() * 100\n",
    "print(f\"Total cancelled orders: {total_cancelled}, which is {percent_cancelled:.2f}% of all orders.\")\n",
    "print(f\"Total returned orders: {total_returned}, which is {percent_returned:.2f}% of all orders.\")\n",
    "print(f\"This represents {percent_cancelled_returned:.2f}% of all orders.\")\n",
    "print(\"\\n\")\n",
    "\n",
    "\n",
    "monthly_order_data = amazon.groupby(pd.Grouper(key='date', freq='M')).agg({'order_amount_($)': 'mean', 'order_quantity': 'mean'})\n",
    "monthly_order_data = monthly_order_data.rename(columns={'order_amount_($)': 'average_order_amount', 'order_quantity': 'average_order_quantity'})\n",
    "print(monthly_order_data)\n",
    "print(\"\\n\")\n",
    "\n",
    "popular_category_by_state = amazon.groupby(['state', 'product_category'])['order_quantity'].sum().reset_index()\n",
    "popular_category_by_state = popular_category_by_state.sort_values(['state', 'order_quantity'], ascending=[True, False])\n",
    "popular_category_by_state = popular_category_by_state.drop_duplicates(subset=['state'])\n",
    "print(\"Most popular product category in each state:\")\n",
    "print(popular_category_by_state)\n",
    "print(\"\\n\")\n",
    "\n",
    "avg_order_amount_by_customer_type = amazon.groupby('customer_type')['order_amount_($)'].mean()\n",
    "print(\"Average order amount by customer type:\")\n",
    "print(avg_order_amount_by_customer_type.apply(lambda x: \"${:,.2f}\".format(x)))\n"
   ]
  },
  {
   "cell_type": "markdown",
   "metadata": {
    "papermill": {
     "duration": 0.017004,
     "end_time": "2023-03-08T20:17:04.471011",
     "exception": false,
     "start_time": "2023-03-08T20:17:04.454007",
     "status": "completed"
    },
    "tags": []
   },
   "source": [
    "### Visuals"
   ]
  },
  {
   "cell_type": "code",
   "execution_count": 90,
   "metadata": {
    "execution": {
     "iopub.execute_input": "2023-03-08T20:17:04.507616Z",
     "iopub.status.busy": "2023-03-08T20:17:04.507014Z",
     "iopub.status.idle": "2023-03-08T20:17:04.757383Z",
     "shell.execute_reply": "2023-03-08T20:17:04.756725Z"
    },
    "papermill": {
     "duration": 0.271159,
     "end_time": "2023-03-08T20:17:04.759571",
     "exception": false,
     "start_time": "2023-03-08T20:17:04.488412",
     "status": "completed"
    },
    "tags": []
   },
   "outputs": [
    {
     "name": "stderr",
     "output_type": "stream",
     "text": [
      "C:\\Users\\Ishan\\AppData\\Local\\Temp\\ipykernel_23712\\547136685.py:5: FutureWarning: 'M' is deprecated and will be removed in a future version, please use 'ME' instead.\n",
      "  monthly_sales = amazon.groupby(pd.Grouper(key='date', freq='M')).agg({'order_amount_($)': 'sum'})\n",
      "C:\\Users\\Ishan\\AppData\\Local\\Temp\\ipykernel_23712\\547136685.py:8: FutureWarning: Series.__getitem__ treating keys as positions is deprecated. In a future version, integer keys will always be treated as labels (consistent with DataFrame behavior). To access a value by position, use `ser.iloc[pos]`\n",
      "  latest_month_revenue = monthly_sales.tail(1).iloc[0][0]\n",
      "C:\\Users\\Ishan\\AppData\\Local\\Temp\\ipykernel_23712\\547136685.py:9: FutureWarning: Series.__getitem__ treating keys as positions is deprecated. In a future version, integer keys will always be treated as labels (consistent with DataFrame behavior). To access a value by position, use `ser.iloc[pos]`\n",
      "  avg_quarterly_revenue = monthly_sales.tail(3).head(2).mean()[0]\n",
      "C:\\Users\\Ishan\\AppData\\Local\\Temp\\ipykernel_23712\\547136685.py:44: UserWarning: set_ticklabels() should only be used with a fixed number of ticks, i.e. after set_ticks() or using a FixedLocator.\n",
      "  ax.set_yticklabels(list(range(0,41,5)))\n"
     ]
    },
    {
     "data": {
      "image/png": "[encoded data removed]",
      "text/plain": [
       "<Figure size 800x600 with 1 Axes>"
      ]
     },
     "metadata": {},
     "output_type": "display_data"
    }
   ],
   "source": [
    "import matplotlib.ticker as ticker\n",
    "sns.set_style('whitegrid')\n",
    "\n",
    "# Group the data by month and calculate the total sales revenue\n",
    "monthly_sales = amazon.groupby(pd.Grouper(key='date', freq='M')).agg({'order_amount_($)': 'sum'})\n",
    "\n",
    "# Get latest month revenue and average quarterly revenue\n",
    "latest_month_revenue = monthly_sales.tail(1).iloc[0][0]\n",
    "avg_quarterly_revenue = monthly_sales.tail(3).head(2).mean()[0]\n",
    "\n",
    "# Compute percentage below average revenue for quarter\n",
    "pct_below_avg = round((1 - (latest_month_revenue / avg_quarterly_revenue)) * 100, 1)\n",
    "\n",
    "# Plot the monthly sales revenue\n",
    "fig, ax = plt.subplots(figsize=(8, 6))\n",
    "bars = ax.bar(monthly_sales.index.strftime('%b'), monthly_sales['order_amount_($)'], color='#878787')\n",
    "\n",
    "# Add label above each bar with the percentage below the average revenue for the quarter\n",
    "for i, bar in enumerate(bars):\n",
    "    if i == len(bars) - 1 or i < len(bars) - 2:\n",
    "        continue\n",
    "    month_sales = monthly_sales.iloc[i]['order_amount_($)']\n",
    "    pct_below_avg = round((1 - (month_sales / avg_quarterly_revenue)) * 100, 1)\n",
    "    ax.annotate(f'{pct_below_avg}% below avg.', \n",
    "                xy=(bar.get_x() + bar.get_width()/2, bar.get_height()-7000), \n",
    "                xytext=(0, 5), textcoords='offset points',  fontweight='bold', \n",
    "                ha='center', va='bottom', fontsize=14)\n",
    "\n",
    "# Add label above the latest bar with the percentage below the average revenue for the quarter\n",
    "latest_bar = bars[-1]\n",
    "latest_month_sales = latest_bar.get_height()\n",
    "pct_below_avg = round((1 - (latest_month_sales / avg_quarterly_revenue)) * 100, 1)\n",
    "ax.annotate(f'{pct_below_avg}% below avg.', \n",
    "            xy=(latest_bar.get_x() + latest_bar.get_width()/2, latest_bar.get_height()-7000), \n",
    "            xytext=(0, 5), textcoords='offset points',  fontweight='bold',\n",
    "            ha='center', va='bottom', fontsize=14)\n",
    "\n",
    "# Add horizontal line at the average quarterly revenue\n",
    "plt.axhline(avg_quarterly_revenue, linestyle='--', color='orange',linewidth=2, label='Q2 Average Revenue')\n",
    "\n",
    "ax.set_title('Amazon India Net Revenue', fontsize=20, x=.19, y=1.05)\n",
    "ax.text(-.08, 1.02, 'Q2 FY22', fontsize=15, color='#878787', transform=ax.transAxes)\n",
    "ax.set_xlabel(None)\n",
    "ax.set_yticklabels(list(range(0,41,5)))\n",
    "ax.set_ylabel('Net Revenue in 10,000 dollars', fontsize=12, labelpad=3)\n",
    "\n",
    "ax.yaxis.grid(linestyle='--', color='gray', linewidth=0.5, dashes=(8, 5))\n",
    "ax.xaxis.grid(False)\n",
    "\n",
    "\n",
    "plt.legend(bbox_to_anchor=(1,1.05), fontsize=12, fancybox=True)\n",
    "\n",
    "ax.tick_params(axis='both', labelsize=12)\n",
    "# Remove top and right spines\n",
    "ax.spines['top'].set_visible(False)\n",
    "ax.spines['right'].set_visible(False)\n",
    "ax.spines['left'].set_visible(False)\n",
    "ax.spines['bottom'].set_linewidth(2)\n",
    "ax.spines['bottom'].set_color('black')\n",
    "plt.show()\n",
    "\n"
   ]
  },
  {
   "cell_type": "code",
   "execution_count": 91,
   "metadata": {
    "execution": {
     "iopub.execute_input": "2023-03-08T20:17:04.797725Z",
     "iopub.status.busy": "2023-03-08T20:17:04.797191Z",
     "iopub.status.idle": "2023-03-08T20:17:05.089061Z",
     "shell.execute_reply": "2023-03-08T20:17:05.087955Z"
    },
    "jupyter": {
     "source_hidden": true
    },
    "papermill": {
     "duration": 0.31338,
     "end_time": "2023-03-08T20:17:05.091172",
     "exception": false,
     "start_time": "2023-03-08T20:17:04.777792",
     "status": "completed"
    },
    "tags": []
   },
   "outputs": [
    {
     "name": "stderr",
     "output_type": "stream",
     "text": [
      "C:\\Users\\Ishan\\AppData\\Local\\Temp\\ipykernel_23712\\3018604462.py:2: FutureWarning: 'M' is deprecated and will be removed in a future version, please use 'ME' instead.\n",
      "  monthly_aov = amazon.groupby(pd.Grouper(key='date', freq='M')).agg({'order_amount_($)': 'sum', 'order_ID': 'nunique'})\n",
      "C:\\Users\\Ishan\\AppData\\Local\\Temp\\ipykernel_23712\\3018604462.py:17: FutureWarning: Series.__getitem__ treating keys as positions is deprecated. In a future version, integer keys will always be treated as labels (consistent with DataFrame behavior). To access a value by position, use `ser.iloc[pos]`\n",
      "  apr_val = monthly_aov['average_order_value'][0]\n",
      "C:\\Users\\Ishan\\AppData\\Local\\Temp\\ipykernel_23712\\3018604462.py:18: FutureWarning: Series.__getitem__ treating keys as positions is deprecated. In a future version, integer keys will always be treated as labels (consistent with DataFrame behavior). To access a value by position, use `ser.iloc[pos]`\n",
      "  jun_val = monthly_aov['average_order_value'][2]\n"
     ]
    },
    {
     "data": {
      "image/png": "[encoded data removed]",
      "text/plain": [
       "<Figure size 800x600 with 1 Axes>"
      ]
     },
     "metadata": {},
     "output_type": "display_data"
    }
   ],
   "source": [
    "# Group the data by month and calculate the average order value\n",
    "monthly_aov = amazon.groupby(pd.Grouper(key='date', freq='M')).agg({'order_amount_($)': 'sum', 'order_ID': 'nunique'})\n",
    "monthly_aov['average_order_value'] = monthly_aov['order_amount_($)'] / monthly_aov['order_ID']\n",
    "\n",
    "# Calculate percent change from previous month\n",
    "monthly_aov['pct_change'] = monthly_aov['average_order_value'].pct_change() * 100\n",
    "\n",
    "# Create a barplot of the average order value per month\n",
    "fig, ax = plt.subplots(figsize=(8,6))\n",
    "sns.barplot(x=monthly_aov.index.strftime('%b'), y=monthly_aov['average_order_value'], ax=ax, color='#878787')\n",
    "\n",
    "# Add line plot of the average order value per month\n",
    "ax.plot(monthly_aov.index.strftime('%b'), monthly_aov['average_order_value'], linestyle='--', linewidth=2, color='orange', marker='o')\n",
    "\n",
    "\n",
    "# Add callout for percent increase from April to June\n",
    "apr_val = monthly_aov['average_order_value'][0]\n",
    "jun_val = monthly_aov['average_order_value'][2]\n",
    "pct_change = ((jun_val - apr_val) / apr_val) * 100\n",
    "ax.annotate(f'Increase of {pct_change:.2f}% from Apr to Jun',fontweight='bold', xy=(2,8.074941567466606), xytext=(1.65, 8.264941567466606), fontsize=13, ha='center', va='bottom', arrowprops=dict(arrowstyle='->', color='black', lw=1.5, connectionstyle=\"arc3,rad=-0.1\"))\n",
    "\n",
    "# Set labels and title\n",
    "ax.set_title('Average Monthly Order Amount', fontsize=20, x=.22, y=1.07)\n",
    "ax.text(-0.09, 1.04, 'Q2 FY22', fontsize=15, color='#878787', transform=ax.transAxes)\n",
    "ax.set_xlabel(None)\n",
    "ax.set_ylabel('Average Order Value ($)', fontsize=12, labelpad=3)\n",
    "ax.set_ylim(7.20, 8.50)\n",
    "ax.yaxis.grid(linestyle='--', color='gray', linewidth=0.5, dashes=(8, 5))\n",
    "\n",
    "ax.tick_params(axis='both', labelsize=12)\n",
    "# Remove top and right spines\n",
    "ax.spines['top'].set_visible(False)\n",
    "ax.spines['right'].set_visible(False)\n",
    "ax.spines['left'].set_visible(False)\n",
    "ax.spines['bottom'].set_linewidth(2)\n",
    "ax.spines['bottom'].set_color('black')\n",
    "\n",
    "plt.show()\n",
    "\n",
    "\n"
   ]
  },
  {
   "cell_type": "code",
   "execution_count": 92,
   "metadata": {
    "execution": {
     "iopub.execute_input": "2023-03-08T20:17:05.130529Z",
     "iopub.status.busy": "2023-03-08T20:17:05.13002Z",
     "iopub.status.idle": "2023-03-08T20:17:05.828636Z",
     "shell.execute_reply": "2023-03-08T20:17:05.827503Z"
    },
    "jupyter": {
     "source_hidden": true
    },
    "papermill": {
     "duration": 0.720689,
     "end_time": "2023-03-08T20:17:05.830848",
     "exception": false,
     "start_time": "2023-03-08T20:17:05.110159",
     "status": "completed"
    },
    "tags": []
   },
   "outputs": [
    {
     "data": {
      "image/png": "[encoded data removed]",
      "text/plain": [
       "<Figure size 800x600 with 1 Axes>"
      ]
     },
     "metadata": {},
     "output_type": "display_data"
    }
   ],
   "source": [
    "import warnings\n",
    "warnings.filterwarnings('ignore')\n",
    "\n",
    "fig, ax = plt.subplots(figsize=(8,6))\n",
    "\n",
    "# Define the desired order of months\n",
    "month_order = ['April', 'May', 'June']\n",
    "\n",
    "# Filter the data to only include the four product categories of interest\n",
    "sales_data = amazon[amazon['product_category'].isin(['Western Dress', 'Top', 'kurta', 'Set'])]\n",
    "\n",
    "# Convert the date column to a datetime object\n",
    "sales_data['date'] = pd.to_datetime(sales_data['date'])\n",
    "\n",
    "# Extract the month from the date column and set it as a new column\n",
    "sales_data['month'] = sales_data['date'].dt.month_name()\n",
    "\n",
    "# Aggregate the sales data by month and product category\n",
    "sales_by_month = sales_data.groupby(['month', 'product_category'])['order_amount_($)'].sum().reset_index()\n",
    "\n",
    "# Convert the month column to a categorical data type with the desired order\n",
    "sales_by_month['month'] = pd.Categorical(sales_by_month['month'], categories=month_order, ordered=True)\n",
    "\n",
    "# Plot the sales data using seaborn\n",
    "ax = sns.barplot(x='month', y='order_amount_($)', hue='product_category', data=sales_by_month,\n",
    "                 palette=['#969696', '#bdbdbd', 'orange', '#d9d9d9'])\n",
    "\n",
    "# Extract the sales data for Western Dress\n",
    "sales_wd = sales_by_month[sales_by_month['product_category'] == 'Western Dress'].reset_index(drop=True)\n",
    "sales_wd['month'] = pd.Categorical(sales_wd['month'], categories=month_order, ordered=True)\n",
    "sales_wd.sort_values(by='month',inplace=True)\n",
    "# Add line plot for total monthly revenue of Western Dress\n",
    "ax.plot([0.1,1.1,2.1], sales_wd['order_amount_($)'], color='black', linestyle='--', linewidth=2, marker='o')\n",
    "\n",
    "\n",
    "# Add annotation for percent increase from April to June for Western Dress\n",
    "pct_increase = (sales_wd.loc[1, 'order_amount_($)'] - sales_wd.loc[0, 'order_amount_($)']) / sales_wd.loc[0, 'order_amount_($)'] * 100\n",
    "ax.annotate(f'{pct_increase:.0f}% increase\\n April to June',fontweight='bold', xy=(2.1, sales_wd.loc[2, 'order_amount_($)']), xytext=(1.88, sales_wd.loc[2, 'order_amount_($)'] + 40000),\n",
    "            arrowprops=dict(arrowstyle='->', color='black', lw=1.5, connectionstyle=\"arc3,rad=0.1\"))\n",
    "\n",
    "\n",
    "# Set the number of y ticks you want\n",
    "num_y_ticks = 10\n",
    "\n",
    "# Calculate the y tick values\n",
    "y_tick_values = np.linspace(ax.get_yticks()[0], ax.get_yticks()[-1], num_y_ticks)\n",
    "\n",
    "# Set the y ticks\n",
    "ax.set_yticks(y_tick_values)\n",
    "\n",
    "\n",
    "# Add title and axis labels\n",
    "ax.set_title('Top Product Revenue by Month', fontsize=20, x=.22, y=1.07)\n",
    "ax.text(-0.09, 1.04, 'Q2 FY22', fontsize=15, color='#878787', transform=ax.transAxes)\n",
    "\n",
    "plt.legend(bbox_to_anchor=(1,1), fontsize=12, framealpha=1)\n",
    "\n",
    "ax.set_xlabel(None)\n",
    "ax.set_ylabel('Net Revenue in 10,000 dollars', fontsize=12, labelpad=3)\n",
    "ax.set_yticklabels(list(range(0,46,5)))\n",
    "ax.yaxis.grid(linestyle='--', color='gray', linewidth=0.5, dashes=(8, 5))\n",
    "\n",
    "ax.tick_params(axis='both', labelsize=12)\n",
    "\n",
    "ax.spines['top'].set_visible(False)\n",
    "ax.spines['right'].set_visible(False)\n",
    "ax.spines['left'].set_visible(False)\n",
    "ax.spines['bottom'].set_linewidth(2)\n",
    "ax.spines['bottom'].set_color('black')\n",
    "\n",
    "\n",
    "# Show the plot\n",
    "plt.show()\n",
    "fig.savefig('Avg_MOV.png', dpi=300)\n",
    "warnings.filterwarnings('default')  # Re-enable the warnings\n",
    "\n"
   ]
  },
  {
   "cell_type": "code",
   "execution_count": 93,
   "metadata": {
    "execution": {
     "iopub.execute_input": "2023-03-08T20:17:05.870655Z",
     "iopub.status.busy": "2023-03-08T20:17:05.870327Z",
     "iopub.status.idle": "2023-03-08T20:17:06.937141Z",
     "shell.execute_reply": "2023-03-08T20:17:06.935859Z"
    },
    "jupyter": {
     "source_hidden": true
    },
    "papermill": {
     "duration": 1.089626,
     "end_time": "2023-03-08T20:17:06.93968",
     "exception": false,
     "start_time": "2023-03-08T20:17:05.850054",
     "status": "completed"
    },
    "tags": []
   },
   "outputs": [
    {
     "name": "stderr",
     "output_type": "stream",
     "text": [
      "C:\\Users\\Ishan\\AppData\\Local\\Temp\\ipykernel_23712\\4170682516.py:20: FutureWarning: \n",
      "\n",
      "Passing `palette` without assigning `hue` is deprecated and will be removed in v0.14.0. Assign the `x` variable to `hue` and set `legend=False` for the same effect.\n",
      "\n",
      "  sns.barplot(x=sales_by_category_pct.index, y=sales_by_category_pct.values, ax=ax, palette=palette_colors)\n"
     ]
    },
    {
     "data": {
      "image/png": "[encoded data removed]",
      "text/plain": [
       "<Figure size 1200x800 with 1 Axes>"
      ]
     },
     "metadata": {},
     "output_type": "display_data"
    }
   ],
   "source": [
    "# Group the data by product category and calculate the total sales\n",
    "sales_by_category = amazon.groupby('product_category')['order_amount_($)'].sum()\n",
    "\n",
    "# Filter the categories to include\n",
    "included_categories = ['Set', 'kurta', 'Western Dress', 'Top', 'Ethnic Dress', 'Blouse']\n",
    "sales_by_category = sales_by_category.loc[included_categories]\n",
    "\n",
    "# Calculate the total revenue\n",
    "total_revenue = sales_by_category.sum()\n",
    "\n",
    "# Calculate the percentage of total revenue for each category\n",
    "sales_by_category_pct = (sales_by_category / total_revenue) * 100\n",
    "\n",
    "# Sort the categories by total sales\n",
    "sales_by_category_pct = sales_by_category_pct.sort_values(ascending=False)\n",
    "\n",
    "# Create a bar chart to show the sales by product category\n",
    "fig, ax = plt.subplots(figsize=(12,8))\n",
    "palette_colors = ['orange' if cat in ['Set', 'Western Dress'] else '#878787' for cat in sales_by_category_pct.index]\n",
    "sns.barplot(x=sales_by_category_pct.index, y=sales_by_category_pct.values, ax=ax, palette=palette_colors)\n",
    "\n",
    "# Set font sizes for x and y labels, title, and ticks\n",
    "# Set the number of y ticks you want\n",
    "num_y_ticks = 10\n",
    "\n",
    "# Calculate the y tick values\n",
    "y_tick_values = list(range(0,101,10))#np.linspace(ax.get_yticks()[0], ax.get_yticks()[-1], num_y_ticks)\n",
    "\n",
    "# Set the y ticks\n",
    "ax.set_yticks(y_tick_values)\n",
    "\n",
    "ax.set_ylabel('Percentage of Total Revenue', labelpad=1)\n",
    "ax.set_ylim(0, 100)\n",
    "ax.set_xlabel('Product Category', labelpad=5)\n",
    "ax.set_title('Percentage of Product Category for Net Revenue', fontsize=20, x=0.255, y=1.05, pad=10)\n",
    "ax.text(-.07, 1.04, 'Average Cost per Product Displayed', fontsize=15, color='#878787', transform=ax.transAxes)\n",
    "ax.tick_params(axis='both', labelsize=12)\n",
    "#ax.set_yticklabels(list(range(0,101,10)))\n",
    "ax.yaxis.grid(linestyle='--', color='gray', linewidth=0.5, dashes=(8, 5))\n",
    "ax.xaxis.grid(False)\n",
    "\n",
    "# Set font sizes for the bars and add annotations for Set, kurta, and Western Dress\n",
    "for i, category in enumerate(sales_by_category_pct.index):\n",
    "    avg_cost = amazon[amazon['product_category'] == category]['order_amount_($)'].mean()\n",
    "    if category in ['Set', 'Western Dress']:\n",
    "        ax.text(i, sales_by_category_pct.values[i] +.1, f'${avg_cost:.2f}', ha='center', fontsize=18, fontweight='bold')\n",
    "    else:\n",
    "        ax.text(i, sales_by_category_pct.values[i] +.1, f'${avg_cost:.2f}', ha='center', fontsize=13)\n",
    "\n",
    "\n",
    "# Add a callout to emphasize the importance of western dresses for diversifying revenue\n",
    "western_sales = sales_by_category_pct['Western Dress']\n",
    "western_index = sales_by_category_pct.index.get_loc('Western Dress')\n",
    "\n",
    "# Define the callout box properties\n",
    "bbox_props = dict(boxstyle='round', facecolor='white', edgecolor='black', alpha=1)\n",
    "arrow_props = dict(facecolor='black', arrowstyle='wedge', alpha=0.5)\n",
    "\n",
    "# Set the position of the callout box\n",
    "x_pos = western_index\n",
    "y_pos = western_sales + 2\n",
    "x_text = x_pos + 0.5\n",
    "y_text = y_pos - 8\n",
    "\n",
    "# Calculate the percentage of revenue from western dresses\n",
    "western_pct = (western_sales / total_revenue) * 100\n",
    "\n",
    "# Add the callout box to the plot\n",
    "ax.annotate('With their high price point and strong sales performance,\\nwestern dresses are a key driver of our revenue.\\nBy prioritizing the sale of these products,\\nwe can build a more resilient and diversified business.', xy=(x_pos, y_pos+2), xytext=(x_text+1, y_text+35), fontsize=14,\n",
    "arrowprops=arrow_props, bbox=bbox_props, ha='center', va='center')\n",
    "\n",
    "\n",
    "# Remove top and right spines\n",
    "ax.spines['top'].set_visible(False)\n",
    "ax.spines['right'].set_visible(False)\n",
    "ax.spines['left'].set_visible(False)\n",
    "ax.spines['bottom'].set_linewidth(2)\n",
    "ax.spines['bottom'].set_color('black')\n",
    "plt.show()\n",
    "fig.savefig('Percent_Prod_Revenuw.png', dpi=300)"
   ]
  },
  {
   "cell_type": "code",
   "execution_count": 94,
   "metadata": {
    "execution": {
     "iopub.execute_input": "2023-03-08T20:17:06.984069Z",
     "iopub.status.busy": "2023-03-08T20:17:06.983689Z",
     "iopub.status.idle": "2023-03-08T20:17:07.720011Z",
     "shell.execute_reply": "2023-03-08T20:17:07.719241Z"
    },
    "jupyter": {
     "source_hidden": true
    },
    "papermill": {
     "duration": 0.760727,
     "end_time": "2023-03-08T20:17:07.722234",
     "exception": false,
     "start_time": "2023-03-08T20:17:06.961507",
     "status": "completed"
    },
    "tags": []
   },
   "outputs": [
    {
     "name": "stderr",
     "output_type": "stream",
     "text": [
      "C:\\Users\\Ishan\\AppData\\Local\\Temp\\ipykernel_23712\\3994525383.py:2: FutureWarning: The default of observed=False is deprecated and will be changed to True in a future version of pandas. Pass observed=False to retain current behavior or observed=True to adopt the future default and silence this warning.\n",
      "  sales_by_size = amazon.groupby('size')['order_amount_($)'].sum()\n",
      "C:\\Users\\Ishan\\AppData\\Local\\Temp\\ipykernel_23712\\3994525383.py:9: FutureWarning: \n",
      "\n",
      "Passing `palette` without assigning `hue` is deprecated and will be removed in v0.14.0. Assign the `x` variable to `hue` and set `legend=False` for the same effect.\n",
      "\n",
      "  sns.barplot(x=sales_by_size.index, y=sales_by_size.values, ax=ax, palette=palette_colors)\n",
      "C:\\Users\\Ishan\\AppData\\Local\\Temp\\ipykernel_23712\\3994525383.py:15: UserWarning: set_ticklabels() should only be used with a fixed number of ticks, i.e. after set_ticks() or using a FixedLocator.\n",
      "  ax.set_yticklabels(list(range(0,20,2)))\n"
     ]
    },
    {
     "data": {
      "image/png": "[encoded data removed]",
      "text/plain": [
       "<Figure size 1200x600 with 1 Axes>"
      ]
     },
     "metadata": {},
     "output_type": "display_data"
    }
   ],
   "source": [
    "# Group the data by product size and calculate the total sales\n",
    "sales_by_size = amazon.groupby('size')['order_amount_($)'].sum()\n",
    "\n",
    "# Create a horizontal bar chart to show the sales by product size\n",
    "fig, ax = plt.subplots(figsize=(12,6))\n",
    "\n",
    "# Use a color palette to highlight specific sizes\n",
    "palette_colors = ['orange' if size in ['S', 'M', 'L'] else '#878787' for size in sales_by_size.index]\n",
    "sns.barplot(x=sales_by_size.index, y=sales_by_size.values, ax=ax, palette=palette_colors)\n",
    "\n",
    "\n",
    "# Set font sizes for x and y labels, title, and ticks\n",
    "ax.set_xlabel('Product Size', labelpad=3, fontsize=14)\n",
    "ax.set_ylabel('Net Revenue in 10,000 dollars', labelpad=3, fontsize=14)\n",
    "ax.set_yticklabels(list(range(0,20,2)))\n",
    "ax.set_title('Sales by Product Size', fontsize=20, x=0.085, y=1.05, pad=10)\n",
    "ax.text(-0.06, 1.04, 'Q2 FY22', fontsize=15, color='#878787', transform=ax.transAxes)\n",
    "#ax.set_title('Top Product Revenue by Month', fontsize=20, x=.22, y=1.07)\n",
    "\n",
    "\n",
    "ax.tick_params(axis='both', labelsize=12)\n",
    "ax.yaxis.grid(linestyle='--', color='gray', linewidth=0.5, dashes=(8, 5))\n",
    "ax.xaxis.grid(False)\n",
    "\n",
    "\n",
    "# Set the number of y ticks you want\n",
    "num_y_ticks = 10\n",
    "\n",
    "# Calculate the y tick values\n",
    "y_tick_values = np.linspace(ax.get_yticks()[0], ax.get_yticks()[-1], num_y_ticks)\n",
    "\n",
    "# Set the y ticks\n",
    "ax.set_yticks(y_tick_values)\n",
    "\n",
    "# Set font sizes for the bars and add annotations for S, M, and L sizes\n",
    "for i, size in enumerate(sales_by_size.index):\n",
    "    if size in ['S', 'M', 'L']:\n",
    "        ax.text(i, sales_by_size.values[i], f'{sales_by_size.values[i]/10000:.0f}k', ha='center', fontsize=14, fontweight='bold', color='black')\n",
    "\n",
    "\n",
    "# Remove top and right spines\n",
    "ax.spines['top'].set_visible(False)\n",
    "ax.spines['right'].set_visible(False)\n",
    "ax.spines['left'].set_visible(False)\n",
    "ax.spines['bottom'].set_linewidth(2)\n",
    "ax.spines['bottom'].set_color('black')\n",
    "\n",
    "plt.show()\n",
    "fig.savefig('Sales_Prod_Size.png', dpi=300)"
   ]
  },
  {
   "cell_type": "code",
   "execution_count": 95,
   "metadata": {
    "execution": {
     "iopub.execute_input": "2023-03-08T20:17:07.767538Z",
     "iopub.status.busy": "2023-03-08T20:17:07.766929Z",
     "iopub.status.idle": "2023-03-08T20:17:10.353614Z",
     "shell.execute_reply": "2023-03-08T20:17:10.35235Z"
    },
    "papermill": {
     "duration": 2.611712,
     "end_time": "2023-03-08T20:17:10.355816",
     "exception": false,
     "start_time": "2023-03-08T20:17:07.744104",
     "status": "completed"
    },
    "tags": []
   },
   "outputs": [
    {
     "name": "stderr",
     "output_type": "stream",
     "text": [
      "C:\\Users\\Ishan\\AppData\\Local\\Temp\\ipykernel_23712\\2873683613.py:23: DeprecationWarning: DataFrameGroupBy.apply operated on the grouping columns. This behavior is deprecated, and in a future version of pandas the grouping columns will be excluded from the operation. Either pass `include_groups=False` to exclude the groupings or explicitly select the grouping columns after groupby to silence this warning.\n",
      "  top_products += sales_by_state_product[sales_by_state_product['state'].isin(sales_by_state[quartiles == q].index)].groupby('state').apply(lambda x: x.nlargest(3, 'order_amount_($)'))['product_category'].tolist()\n",
      "C:\\Users\\Ishan\\AppData\\Local\\Temp\\ipykernel_23712\\2873683613.py:23: DeprecationWarning: DataFrameGroupBy.apply operated on the grouping columns. This behavior is deprecated, and in a future version of pandas the grouping columns will be excluded from the operation. Either pass `include_groups=False` to exclude the groupings or explicitly select the grouping columns after groupby to silence this warning.\n",
      "  top_products += sales_by_state_product[sales_by_state_product['state'].isin(sales_by_state[quartiles == q].index)].groupby('state').apply(lambda x: x.nlargest(3, 'order_amount_($)'))['product_category'].tolist()\n",
      "C:\\Users\\Ishan\\AppData\\Local\\Temp\\ipykernel_23712\\2873683613.py:23: DeprecationWarning: DataFrameGroupBy.apply operated on the grouping columns. This behavior is deprecated, and in a future version of pandas the grouping columns will be excluded from the operation. Either pass `include_groups=False` to exclude the groupings or explicitly select the grouping columns after groupby to silence this warning.\n",
      "  top_products += sales_by_state_product[sales_by_state_product['state'].isin(sales_by_state[quartiles == q].index)].groupby('state').apply(lambda x: x.nlargest(3, 'order_amount_($)'))['product_category'].tolist()\n",
      "C:\\Users\\Ishan\\AppData\\Local\\Temp\\ipykernel_23712\\2873683613.py:23: DeprecationWarning: DataFrameGroupBy.apply operated on the grouping columns. This behavior is deprecated, and in a future version of pandas the grouping columns will be excluded from the operation. Either pass `include_groups=False` to exclude the groupings or explicitly select the grouping columns after groupby to silence this warning.\n",
      "  top_products += sales_by_state_product[sales_by_state_product['state'].isin(sales_by_state[quartiles == q].index)].groupby('state').apply(lambda x: x.nlargest(3, 'order_amount_($)'))['product_category'].tolist()\n"
     ]
    },
    {
     "data": {
      "image/png": "[encoded data removed]",
      "text/plain": [
       "<Figure size 1600x1200 with 4 Axes>"
      ]
     },
     "metadata": {},
     "output_type": "display_data"
    }
   ],
   "source": [
    "#Define the color palette for the product categories\n",
    "colors = {'Top': '#d9d9d9', 'Set': '#969696', 'kurta': '#bdbdbd', 'Western Dress':'orange'}\n",
    "\n",
    "# Group the data by state and calculate the total sales\n",
    "sales_by_state = amazon.groupby('state')['order_amount_($)'].sum()\n",
    "\n",
    "# Get the top 5 and bottom 5 states by sales\n",
    "n_states = len(sales_by_state)\n",
    "quartiles = pd.qcut(sales_by_state, 4, labels=['Q1', 'Q2', 'Q3', 'Q4'])\n",
    "top_states = []\n",
    "for q in ['Q1', 'Q2', 'Q3', 'Q4']:\n",
    "    top_states += sales_by_state[quartiles == q].nlargest(5).index.tolist()\n",
    "\n",
    "# Filter the dataframe to include only the top states\n",
    "top_sales = amazon[amazon['state'].isin(top_states)]\n",
    "\n",
    "# Group the data by state and product, and calculate the total sales\n",
    "sales_by_state_product = top_sales.groupby(['state', 'product_category'])['order_amount_($)'].sum().reset_index()\n",
    "\n",
    "# Get the top 3 products for each quartile\n",
    "top_products = []\n",
    "for q in ['Q1', 'Q2', 'Q3', 'Q4']:\n",
    "    top_products += sales_by_state_product[sales_by_state_product['state'].isin(sales_by_state[quartiles == q].index)].groupby('state').apply(lambda x: x.nlargest(3, 'order_amount_($)'))['product_category'].tolist()\n",
    "\n",
    "# Create a figure with four subplots\n",
    "fig, axs = plt.subplots(2, 2, figsize=(16, 12), sharey=False)\n",
    "\n",
    "# Create the subplot for quartile 1\n",
    "q1_sales = sales_by_state_product[sales_by_state_product['state'].isin(sales_by_state[quartiles == 'Q1'].index)]\n",
    "q1_sales = q1_sales[q1_sales['product_category'].isin(top_products)]\n",
    "sns.barplot(x='state', y='order_amount_($)', hue='product_category', data=q1_sales, ax=axs[0, 0], palette=colors)\n",
    "axs[0, 0].legend().set_visible(False)\n",
    "axs[0, 0].set_title('Sales by Q1 States (lowest revenue quartile)')\n",
    "axs[0, 0].set_xlabel('State')\n",
    "axs[0, 0].set_ylabel('Total Sales ($)')\n",
    "\n",
    "# Create the subplot for quartile 2\n",
    "q2_sales = sales_by_state_product[sales_by_state_product['state'].isin(sales_by_state[quartiles == 'Q2'].index)]\n",
    "q2_sales = q2_sales[q2_sales['product_category'].isin(top_products)]\n",
    "sns.barplot(x='state', y='order_amount_($)', hue='product_category', data=q2_sales, palette=colors, ax=axs[0, 1])\n",
    "axs[0, 1].legend().set_visible(False)\n",
    "axs[0, 1].set_title('Sales by Q2 States (second-lowest revenue quartile)')\n",
    "axs[0, 1].set_xlabel('State')\n",
    "axs[0, 1].set_ylabel('Total Sales ($)')\n",
    "\n",
    "# Create the subplot for quartile 3\n",
    "q3_sales = sales_by_state_product[sales_by_state_product['state'].isin(sales_by_state[quartiles == 'Q3'].index)]\n",
    "q3_sales = q3_sales[q3_sales['product_category'].isin(top_products)]\n",
    "sns.barplot(x='state', y='order_amount_($)', hue='product_category', data=q3_sales, palette=colors, ax=axs[1, 0])\n",
    "axs[1, 0].legend().set_visible(False)\n",
    "axs[1, 0].set_title('Sales by Q3 States (second-highest revenue quartile)')\n",
    "axs[1, 0].set_xlabel('State')\n",
    "axs[1, 0].set_ylabel('Total Sales ($)')\n",
    "\n",
    "# Create the subplot for quartile 4\n",
    "q4_sales = sales_by_state_product[sales_by_state_product['state'].isin(sales_by_state[quartiles == 'Q4'].index)]\n",
    "q4_sales = q4_sales[q4_sales['product_category'].isin(top_products)]\n",
    "sns.barplot(x='state', y='order_amount_($)', hue='product_category', data=q4_sales, palette=colors, ax=axs[1, 1])\n",
    "axs[1, 1].legend().set_visible(False)\n",
    "axs[1, 1].set_title('Sales by Q4 States (highest revenue quartile)')\n",
    "axs[1, 1].set_xlabel('State')\n",
    "axs[1, 1].set_ylabel('Total Sales ($)')\n",
    "\n",
    "# Adjust the spacing between subplots\n",
    "plt.subplots_adjust(hspace=.9, wspace=.21, bottom=.2)\n",
    "\n",
    "# Rotate the x-axis tick labels\n",
    "for ax in axs.flat:\n",
    "    plt.setp(ax.get_xticklabels(), rotation=45, ha='right')\n",
    "\n",
    "# Add a single legend to the figure\n",
    "handles, labels = axs[1, 1].get_legend_handles_labels()\n",
    "fig.legend(handles, labels, loc='center', ncol=len(labels), title='Product Category', fontsize=15, title_fontsize = 15)\n",
    "    \n",
    "    \n",
    "plt.suptitle(\"Identifying Top 4 Products for Top 5 States in each Revenue Quartile\", fontsize = 25)\n",
    "# Show the figure\n",
    "plt.show()\n",
    "fig.savefig('Top_Products_Top_States.png', dpi=300)\n"
   ]
  }
 ],
 "metadata": {
  "kaggle": {
   "accelerator": "none",
   "dataSources": [
    {
     "datasetId": 2699295,
     "sourceId": 4642886,
     "sourceType": "datasetVersion"
    },
    {
     "datasetId": 2818963,
     "sourceId": 4862520,
     "sourceType": "datasetVersion"
    }
   ],
   "dockerImageVersionId": 30527,
   "isGpuEnabled": false,
   "isInternetEnabled": true,
   "language": "python",
   "sourceType": "notebook"
  },
  "kernelspec": {
   "display_name": "Python 3",
   "language": "python",
   "name": "python3"
  },
  "language_info": {
   "codemirror_mode": {
    "name": "ipython",
    "version": 3
   },
   "file_extension": ".py",
   "mimetype": "text/x-python",
   "name": "python",
   "nbconvert_exporter": "python",
   "pygments_lexer": "ipython3",
   "version": "3.12.0"
  }
 },
 "nbformat": 4,
 "nbformat_minor": 4
}
